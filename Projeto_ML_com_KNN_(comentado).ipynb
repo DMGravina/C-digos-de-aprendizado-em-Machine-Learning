{
  "cells": [
    {
      "cell_type": "markdown",
      "metadata": {
        "id": "view-in-github",
        "colab_type": "text"
      },
      "source": [
        "<a href=\"https://colab.research.google.com/github/DMGravina/C-digos-de-aprendizado-em-Machine-Learning/blob/main/Projeto_ML_com_KNN_(comentado).ipynb\" target=\"_parent\"><img src=\"https://colab.research.google.com/assets/colab-badge.svg\" alt=\"Open In Colab\"/></a>"
      ]
    },
    {
      "cell_type": "markdown",
      "id": "1c6b4018",
      "metadata": {
        "id": "1c6b4018"
      },
      "source": [
        "# 1. Introdução ao problema\n"
      ]
    },
    {
      "cell_type": "markdown",
      "source": [
        "As fraudes em transações com cartão de crédito representam uma ameaça significativa para instituições financeiras e consumidores. Estima-se que bilhões de dólares são perdidos anualmente em todo o mundo devido a operações fraudulentas. Esses prejuízos não se limitam apenas a perdas financeiras diretas, mas também afetam a confiança dos clientes e podem comprometer a reputação das empresas do setor.\n",
        "\n",
        "Diante desse cenário, o objetivo deste projeto é desenvolver um modelo preditivo baseado em técnicas de Machine Learning que seja capaz de identificar automaticamente transações suspeitas, permitindo à empresa agir rapidamente para mitigar os impactos da fraude. Uma transação fraudulenta é definida como qualquer operação realizada com cartão de crédito sem o conhecimento ou consentimento do titular. Essas transações geralmente são feitas por indivíduos mal-intencionados que obtêm os dados do cartão de forma ilegal, com o intuito de obter ganhos financeiros indevidos."
      ],
      "metadata": {
        "id": "EOxpI4s3UHyy"
      },
      "id": "EOxpI4s3UHyy"
    },
    {
      "cell_type": "markdown",
      "source": [
        "## Importação das bibliotecas"
      ],
      "metadata": {
        "id": "a6YJ-iI2d9qq"
      },
      "id": "a6YJ-iI2d9qq"
    },
    {
      "cell_type": "markdown",
      "source": [
        "Aqui serão importadas as bibliotecas que serão usadas ao longo do código. As funções a serem utilizadas são padronização de dados, plotagem de informações, KNN por classificação e avaliação do modelo por acurácia."
      ],
      "metadata": {
        "id": "wgXfYoxlfiAZ"
      },
      "id": "wgXfYoxlfiAZ"
    },
    {
      "cell_type": "code",
      "execution_count": null,
      "id": "bae5a234",
      "metadata": {
        "id": "bae5a234"
      },
      "outputs": [],
      "source": [
        "#[4, 1, 22, 9, 7, 18, 1, 22, 9, 14, 1]\n",
        "import pandas as pd\n",
        "import numpy as np\n",
        "import matplotlib.pyplot as plt\n",
        "from sklearn.model_selection import train_test_split\n",
        "from sklearn.neighbors import KNeighborsClassifier\n",
        "from sklearn.preprocessing import StandardScaler\n",
        "from sklearn.metrics import accuracy_score\n",
        "from sklearn.metrics import confusion_matrix, ConfusionMatrixDisplay"
      ]
    },
    {
      "cell_type": "markdown",
      "id": "6aa15ebe",
      "metadata": {
        "id": "6aa15ebe"
      },
      "source": [
        "# 2. Análise de dados\n"
      ]
    },
    {
      "cell_type": "markdown",
      "source": [
        "A partir de agora, serão apresentados os dados em si, seus tipos e estruturas."
      ],
      "metadata": {
        "id": "hxuWBBvHhgFj"
      },
      "id": "hxuWBBvHhgFj"
    },
    {
      "cell_type": "code",
      "execution_count": null,
      "id": "29a3847b",
      "metadata": {
        "id": "29a3847b",
        "colab": {
          "base_uri": "https://localhost:8080/"
        },
        "outputId": "629c741d-d0d3-4d31-d7c4-91b00793eaf0"
      },
      "outputs": [
        {
          "output_type": "stream",
          "name": "stdout",
          "text": [
            "   distance_from_home  distance_from_last_transaction  \\\n",
            "0           57.877857                        0.311140   \n",
            "1           10.829943                        0.175592   \n",
            "2            5.091079                        0.805153   \n",
            "3            2.247564                        5.600044   \n",
            "4           44.190936                        0.566486   \n",
            "5            5.586408                       13.261073   \n",
            "\n",
            "   ratio_to_median_purchase_price  repeat_retailer  used_chip  \\\n",
            "0                        1.945940              1.0        1.0   \n",
            "1                        1.294219              1.0        0.0   \n",
            "2                        0.427715              1.0        0.0   \n",
            "3                        0.362663              1.0        1.0   \n",
            "4                        2.222767              1.0        1.0   \n",
            "5                        0.064768              1.0        0.0   \n",
            "\n",
            "   used_pin_number  online_order  fraud  \n",
            "0              0.0           0.0    0.0  \n",
            "1              0.0           0.0    0.0  \n",
            "2              0.0           1.0    0.0  \n",
            "3              0.0           1.0    0.0  \n",
            "4              0.0           1.0    0.0  \n",
            "5              0.0           0.0    0.0  \n",
            "\n",
            "        distance_from_home  distance_from_last_transaction  \\\n",
            "999994            3.295884                        0.085712   \n",
            "999995            2.207101                        0.112651   \n",
            "999996           19.872726                        2.683904   \n",
            "999997            2.914857                        1.472687   \n",
            "999998            4.258729                        0.242023   \n",
            "999999           58.108125                        0.318110   \n",
            "\n",
            "        ratio_to_median_purchase_price  repeat_retailer  used_chip  \\\n",
            "999994                        0.831991              1.0        0.0   \n",
            "999995                        1.626798              1.0        1.0   \n",
            "999996                        2.778303              1.0        1.0   \n",
            "999997                        0.218075              1.0        1.0   \n",
            "999998                        0.475822              1.0        0.0   \n",
            "999999                        0.386920              1.0        1.0   \n",
            "\n",
            "        used_pin_number  online_order  fraud  \n",
            "999994              0.0           1.0    0.0  \n",
            "999995              0.0           0.0    0.0  \n",
            "999996              0.0           0.0    0.0  \n",
            "999997              0.0           1.0    0.0  \n",
            "999998              0.0           1.0    0.0  \n",
            "999999              0.0           1.0    0.0  \n"
          ]
        }
      ],
      "source": [
        "#[4, 1, 22, 9, 7, 18, 1, 22, 9, 14, 1]\n",
        "data = pd.read_csv(\"card_transdata.csv\")\n",
        "print(data.head(6))\n",
        "print()\n",
        "print(data.tail(6))"
      ]
    },
    {
      "cell_type": "markdown",
      "source": [
        "- Estrutura dos Dados:"
      ],
      "metadata": {
        "id": "-j3Oa1C2CRdr"
      },
      "id": "-j3Oa1C2CRdr"
    },
    {
      "cell_type": "code",
      "source": [
        "print(data.dtypes)\n",
        "print()\n",
        "print(data.describe())"
      ],
      "metadata": {
        "colab": {
          "base_uri": "https://localhost:8080/"
        },
        "id": "0F6ap3WACxYx",
        "outputId": "5b8f6ccf-f11e-4907-db29-b2416094db3e"
      },
      "id": "0F6ap3WACxYx",
      "execution_count": null,
      "outputs": [
        {
          "output_type": "stream",
          "name": "stdout",
          "text": [
            "distance_from_home                float64\n",
            "distance_from_last_transaction    float64\n",
            "ratio_to_median_purchase_price    float64\n",
            "repeat_retailer                   float64\n",
            "used_chip                         float64\n",
            "used_pin_number                   float64\n",
            "online_order                      float64\n",
            "fraud                             float64\n",
            "dtype: object\n",
            "\n",
            "       distance_from_home  distance_from_last_transaction  \\\n",
            "count      1000000.000000                  1000000.000000   \n",
            "mean            26.628792                        5.036519   \n",
            "std             65.390784                       25.843093   \n",
            "min              0.004874                        0.000118   \n",
            "25%              3.878008                        0.296671   \n",
            "50%              9.967760                        0.998650   \n",
            "75%             25.743985                        3.355748   \n",
            "max          10632.723672                    11851.104565   \n",
            "\n",
            "       ratio_to_median_purchase_price  repeat_retailer       used_chip  \\\n",
            "count                  1000000.000000   1000000.000000  1000000.000000   \n",
            "mean                         1.824182         0.881536        0.350399   \n",
            "std                          2.799589         0.323157        0.477095   \n",
            "min                          0.004399         0.000000        0.000000   \n",
            "25%                          0.475673         1.000000        0.000000   \n",
            "50%                          0.997717         1.000000        0.000000   \n",
            "75%                          2.096370         1.000000        1.000000   \n",
            "max                        267.802942         1.000000        1.000000   \n",
            "\n",
            "       used_pin_number    online_order           fraud  \n",
            "count   1000000.000000  1000000.000000  1000000.000000  \n",
            "mean          0.100608        0.650552        0.087403  \n",
            "std           0.300809        0.476796        0.282425  \n",
            "min           0.000000        0.000000        0.000000  \n",
            "25%           0.000000        0.000000        0.000000  \n",
            "50%           0.000000        1.000000        0.000000  \n",
            "75%           0.000000        1.000000        0.000000  \n",
            "max           1.000000        1.000000        1.000000  \n"
          ]
        }
      ]
    },
    {
      "cell_type": "markdown",
      "source": [
        "# 3. Limpeza de dados"
      ],
      "metadata": {
        "id": "3NaJLfsXGpc6"
      },
      "id": "3NaJLfsXGpc6"
    },
    {
      "cell_type": "markdown",
      "source": [
        "Aqui ocorrerá a verificação de valores ausentes ou nulos, e a exclusão de colunas que não apresentam utilidade para o aprendizado."
      ],
      "metadata": {
        "id": "a3GPBezWiob0"
      },
      "id": "a3GPBezWiob0"
    },
    {
      "cell_type": "code",
      "source": [
        "#[4, 1, 22, 9, 7, 18, 1, 22, 9, 14, 1]\n",
        "data.isnull().sum()"
      ],
      "metadata": {
        "colab": {
          "base_uri": "https://localhost:8080/",
          "height": 335
        },
        "id": "g8elQ0_5HDAc",
        "outputId": "f07a5782-23dd-4b45-fac7-0af1363760ce"
      },
      "id": "g8elQ0_5HDAc",
      "execution_count": null,
      "outputs": [
        {
          "output_type": "execute_result",
          "data": {
            "text/plain": [
              "distance_from_home                0\n",
              "distance_from_last_transaction    0\n",
              "ratio_to_median_purchase_price    0\n",
              "repeat_retailer                   0\n",
              "used_chip                         0\n",
              "used_pin_number                   0\n",
              "online_order                      0\n",
              "fraud                             0\n",
              "dtype: int64"
            ],
            "text/html": [
              "<div>\n",
              "<style scoped>\n",
              "    .dataframe tbody tr th:only-of-type {\n",
              "        vertical-align: middle;\n",
              "    }\n",
              "\n",
              "    .dataframe tbody tr th {\n",
              "        vertical-align: top;\n",
              "    }\n",
              "\n",
              "    .dataframe thead th {\n",
              "        text-align: right;\n",
              "    }\n",
              "</style>\n",
              "<table border=\"1\" class=\"dataframe\">\n",
              "  <thead>\n",
              "    <tr style=\"text-align: right;\">\n",
              "      <th></th>\n",
              "      <th>0</th>\n",
              "    </tr>\n",
              "  </thead>\n",
              "  <tbody>\n",
              "    <tr>\n",
              "      <th>distance_from_home</th>\n",
              "      <td>0</td>\n",
              "    </tr>\n",
              "    <tr>\n",
              "      <th>distance_from_last_transaction</th>\n",
              "      <td>0</td>\n",
              "    </tr>\n",
              "    <tr>\n",
              "      <th>ratio_to_median_purchase_price</th>\n",
              "      <td>0</td>\n",
              "    </tr>\n",
              "    <tr>\n",
              "      <th>repeat_retailer</th>\n",
              "      <td>0</td>\n",
              "    </tr>\n",
              "    <tr>\n",
              "      <th>used_chip</th>\n",
              "      <td>0</td>\n",
              "    </tr>\n",
              "    <tr>\n",
              "      <th>used_pin_number</th>\n",
              "      <td>0</td>\n",
              "    </tr>\n",
              "    <tr>\n",
              "      <th>online_order</th>\n",
              "      <td>0</td>\n",
              "    </tr>\n",
              "    <tr>\n",
              "      <th>fraud</th>\n",
              "      <td>0</td>\n",
              "    </tr>\n",
              "  </tbody>\n",
              "</table>\n",
              "</div><br><label><b>dtype:</b> int64</label>"
            ]
          },
          "metadata": {},
          "execution_count": 6
        }
      ]
    },
    {
      "cell_type": "markdown",
      "source": [
        ">Sem valores ausentes, ou dados faltantes."
      ],
      "metadata": {
        "id": "qxF4LjfUHAde"
      },
      "id": "qxF4LjfUHAde"
    },
    {
      "cell_type": "markdown",
      "source": [
        "- Retirada de valores sem utilidade:"
      ],
      "metadata": {
        "id": "aamrxciaHn8G"
      },
      "id": "aamrxciaHn8G"
    },
    {
      "cell_type": "code",
      "source": [
        "data.drop(\"distance_from_home\", axis=1, inplace=True)"
      ],
      "metadata": {
        "id": "LOClflW4JWl3"
      },
      "id": "LOClflW4JWl3",
      "execution_count": null,
      "outputs": []
    },
    {
      "cell_type": "markdown",
      "source": [
        ">A coluna \"*distance_from_home* \" foi removida dos dados gerais."
      ],
      "metadata": {
        "id": "gY2DMwDCnhfm"
      },
      "id": "gY2DMwDCnhfm"
    },
    {
      "cell_type": "markdown",
      "id": "d41b8159",
      "metadata": {
        "id": "d41b8159"
      },
      "source": [
        "# 4. Pré-processamento"
      ]
    },
    {
      "cell_type": "markdown",
      "source": [
        "O pré-processamento do aprendizado será baseado no uso da \"*train_test_split*\" para organizar os dados de teste e de treino, e no uso da \"*StandardScaler*\" para evitar que variáveis com valores maiores dominem o aprendizado (padronização). Será definido que os valores de entrada serão os dados disponibilizados, com exceção da coluna \"*fraud*\", que será o alvo dos valores de saída."
      ],
      "metadata": {
        "id": "NG5uLA_2jU_G"
      },
      "id": "NG5uLA_2jU_G"
    },
    {
      "cell_type": "markdown",
      "source": [
        "- Definição de \"x\" e \"y\":"
      ],
      "metadata": {
        "id": "GcqhZRXRNJVV"
      },
      "id": "GcqhZRXRNJVV"
    },
    {
      "cell_type": "code",
      "execution_count": null,
      "id": "8dddf197",
      "metadata": {
        "id": "8dddf197"
      },
      "outputs": [],
      "source": [
        "#[4, 1, 22, 9, 7, 18, 1, 22, 9, 14, 1]\n",
        "x = data.drop(\"fraud\", axis=1)\n",
        "y = data[\"fraud\"]"
      ]
    },
    {
      "cell_type": "code",
      "execution_count": null,
      "id": "7eca8662",
      "metadata": {
        "id": "7eca8662"
      },
      "outputs": [],
      "source": [
        "x_train, x_test, y_train, y_test = train_test_split(x, y, test_size=0.2, random_state=42)"
      ]
    },
    {
      "cell_type": "markdown",
      "source": [
        ">Foram definidas 2 variáveis de entrada e 2 de saída. Um par é voltado ao treino e o outro é voltado ao teste."
      ],
      "metadata": {
        "id": "UOLn_gEnokOR"
      },
      "id": "UOLn_gEnokOR"
    },
    {
      "cell_type": "markdown",
      "id": "f793bf54",
      "metadata": {
        "id": "f793bf54"
      },
      "source": [
        "- Padronização dos Dados:"
      ]
    },
    {
      "cell_type": "code",
      "execution_count": null,
      "id": "63ef81d2",
      "metadata": {
        "id": "63ef81d2"
      },
      "outputs": [],
      "source": [
        "scaler = StandardScaler()\n",
        "x_train_scaled = scaler.fit_transform(x_train)\n",
        "x_test_scaled = scaler.transform(x_test)"
      ]
    },
    {
      "cell_type": "markdown",
      "source": [
        ">Os Dados gerais (menos os da variável \"*fraud* \") foram padronizados e organizados. Na variável de treino, foi possível calcular o desvio padrão das informações por meio da \"*.fit* \"."
      ],
      "metadata": {
        "id": "eSL-JhJcpEci"
      },
      "id": "eSL-JhJcpEci"
    },
    {
      "cell_type": "markdown",
      "id": "55cf902a",
      "metadata": {
        "id": "55cf902a"
      },
      "source": [
        "# 5. Modelagem"
      ]
    },
    {
      "cell_type": "markdown",
      "source": [
        "Aqui ocorrerá a implementação do KNeighborsClassifier e da predição em si. Para comparar a variedade dos resultados em relação da quantidade de vizinhos, serão feitos dois testes, um com '*k* ' valendo 5 (padrão) e outro em que '*k* ' vale 8."
      ],
      "metadata": {
        "id": "ANCYbBYwPK6M"
      },
      "id": "ANCYbBYwPK6M"
    },
    {
      "cell_type": "markdown",
      "source": [
        "## + Aprendizado da máquina com 5 neighbors"
      ],
      "metadata": {
        "id": "y41iQedySoRX"
      },
      "id": "y41iQedySoRX"
    },
    {
      "cell_type": "markdown",
      "source": [
        "- Implementação do \"*KNeighborsClassifier* \":"
      ],
      "metadata": {
        "id": "-iFnaCODnbz_"
      },
      "id": "-iFnaCODnbz_"
    },
    {
      "cell_type": "code",
      "execution_count": null,
      "id": "8843d459",
      "metadata": {
        "id": "8843d459",
        "colab": {
          "base_uri": "https://localhost:8080/",
          "height": 80
        },
        "outputId": "f3df43ff-5e6d-406e-a603-847f1f93c215"
      },
      "outputs": [
        {
          "output_type": "execute_result",
          "data": {
            "text/plain": [
              "KNeighborsClassifier()"
            ],
            "text/html": [
              "<style>#sk-container-id-1 {\n",
              "  /* Definition of color scheme common for light and dark mode */\n",
              "  --sklearn-color-text: #000;\n",
              "  --sklearn-color-text-muted: #666;\n",
              "  --sklearn-color-line: gray;\n",
              "  /* Definition of color scheme for unfitted estimators */\n",
              "  --sklearn-color-unfitted-level-0: #fff5e6;\n",
              "  --sklearn-color-unfitted-level-1: #f6e4d2;\n",
              "  --sklearn-color-unfitted-level-2: #ffe0b3;\n",
              "  --sklearn-color-unfitted-level-3: chocolate;\n",
              "  /* Definition of color scheme for fitted estimators */\n",
              "  --sklearn-color-fitted-level-0: #f0f8ff;\n",
              "  --sklearn-color-fitted-level-1: #d4ebff;\n",
              "  --sklearn-color-fitted-level-2: #b3dbfd;\n",
              "  --sklearn-color-fitted-level-3: cornflowerblue;\n",
              "\n",
              "  /* Specific color for light theme */\n",
              "  --sklearn-color-text-on-default-background: var(--sg-text-color, var(--theme-code-foreground, var(--jp-content-font-color1, black)));\n",
              "  --sklearn-color-background: var(--sg-background-color, var(--theme-background, var(--jp-layout-color0, white)));\n",
              "  --sklearn-color-border-box: var(--sg-text-color, var(--theme-code-foreground, var(--jp-content-font-color1, black)));\n",
              "  --sklearn-color-icon: #696969;\n",
              "\n",
              "  @media (prefers-color-scheme: dark) {\n",
              "    /* Redefinition of color scheme for dark theme */\n",
              "    --sklearn-color-text-on-default-background: var(--sg-text-color, var(--theme-code-foreground, var(--jp-content-font-color1, white)));\n",
              "    --sklearn-color-background: var(--sg-background-color, var(--theme-background, var(--jp-layout-color0, #111)));\n",
              "    --sklearn-color-border-box: var(--sg-text-color, var(--theme-code-foreground, var(--jp-content-font-color1, white)));\n",
              "    --sklearn-color-icon: #878787;\n",
              "  }\n",
              "}\n",
              "\n",
              "#sk-container-id-1 {\n",
              "  color: var(--sklearn-color-text);\n",
              "}\n",
              "\n",
              "#sk-container-id-1 pre {\n",
              "  padding: 0;\n",
              "}\n",
              "\n",
              "#sk-container-id-1 input.sk-hidden--visually {\n",
              "  border: 0;\n",
              "  clip: rect(1px 1px 1px 1px);\n",
              "  clip: rect(1px, 1px, 1px, 1px);\n",
              "  height: 1px;\n",
              "  margin: -1px;\n",
              "  overflow: hidden;\n",
              "  padding: 0;\n",
              "  position: absolute;\n",
              "  width: 1px;\n",
              "}\n",
              "\n",
              "#sk-container-id-1 div.sk-dashed-wrapped {\n",
              "  border: 1px dashed var(--sklearn-color-line);\n",
              "  margin: 0 0.4em 0.5em 0.4em;\n",
              "  box-sizing: border-box;\n",
              "  padding-bottom: 0.4em;\n",
              "  background-color: var(--sklearn-color-background);\n",
              "}\n",
              "\n",
              "#sk-container-id-1 div.sk-container {\n",
              "  /* jupyter's `normalize.less` sets `[hidden] { display: none; }`\n",
              "     but bootstrap.min.css set `[hidden] { display: none !important; }`\n",
              "     so we also need the `!important` here to be able to override the\n",
              "     default hidden behavior on the sphinx rendered scikit-learn.org.\n",
              "     See: https://github.com/scikit-learn/scikit-learn/issues/21755 */\n",
              "  display: inline-block !important;\n",
              "  position: relative;\n",
              "}\n",
              "\n",
              "#sk-container-id-1 div.sk-text-repr-fallback {\n",
              "  display: none;\n",
              "}\n",
              "\n",
              "div.sk-parallel-item,\n",
              "div.sk-serial,\n",
              "div.sk-item {\n",
              "  /* draw centered vertical line to link estimators */\n",
              "  background-image: linear-gradient(var(--sklearn-color-text-on-default-background), var(--sklearn-color-text-on-default-background));\n",
              "  background-size: 2px 100%;\n",
              "  background-repeat: no-repeat;\n",
              "  background-position: center center;\n",
              "}\n",
              "\n",
              "/* Parallel-specific style estimator block */\n",
              "\n",
              "#sk-container-id-1 div.sk-parallel-item::after {\n",
              "  content: \"\";\n",
              "  width: 100%;\n",
              "  border-bottom: 2px solid var(--sklearn-color-text-on-default-background);\n",
              "  flex-grow: 1;\n",
              "}\n",
              "\n",
              "#sk-container-id-1 div.sk-parallel {\n",
              "  display: flex;\n",
              "  align-items: stretch;\n",
              "  justify-content: center;\n",
              "  background-color: var(--sklearn-color-background);\n",
              "  position: relative;\n",
              "}\n",
              "\n",
              "#sk-container-id-1 div.sk-parallel-item {\n",
              "  display: flex;\n",
              "  flex-direction: column;\n",
              "}\n",
              "\n",
              "#sk-container-id-1 div.sk-parallel-item:first-child::after {\n",
              "  align-self: flex-end;\n",
              "  width: 50%;\n",
              "}\n",
              "\n",
              "#sk-container-id-1 div.sk-parallel-item:last-child::after {\n",
              "  align-self: flex-start;\n",
              "  width: 50%;\n",
              "}\n",
              "\n",
              "#sk-container-id-1 div.sk-parallel-item:only-child::after {\n",
              "  width: 0;\n",
              "}\n",
              "\n",
              "/* Serial-specific style estimator block */\n",
              "\n",
              "#sk-container-id-1 div.sk-serial {\n",
              "  display: flex;\n",
              "  flex-direction: column;\n",
              "  align-items: center;\n",
              "  background-color: var(--sklearn-color-background);\n",
              "  padding-right: 1em;\n",
              "  padding-left: 1em;\n",
              "}\n",
              "\n",
              "\n",
              "/* Toggleable style: style used for estimator/Pipeline/ColumnTransformer box that is\n",
              "clickable and can be expanded/collapsed.\n",
              "- Pipeline and ColumnTransformer use this feature and define the default style\n",
              "- Estimators will overwrite some part of the style using the `sk-estimator` class\n",
              "*/\n",
              "\n",
              "/* Pipeline and ColumnTransformer style (default) */\n",
              "\n",
              "#sk-container-id-1 div.sk-toggleable {\n",
              "  /* Default theme specific background. It is overwritten whether we have a\n",
              "  specific estimator or a Pipeline/ColumnTransformer */\n",
              "  background-color: var(--sklearn-color-background);\n",
              "}\n",
              "\n",
              "/* Toggleable label */\n",
              "#sk-container-id-1 label.sk-toggleable__label {\n",
              "  cursor: pointer;\n",
              "  display: flex;\n",
              "  width: 100%;\n",
              "  margin-bottom: 0;\n",
              "  padding: 0.5em;\n",
              "  box-sizing: border-box;\n",
              "  text-align: center;\n",
              "  align-items: start;\n",
              "  justify-content: space-between;\n",
              "  gap: 0.5em;\n",
              "}\n",
              "\n",
              "#sk-container-id-1 label.sk-toggleable__label .caption {\n",
              "  font-size: 0.6rem;\n",
              "  font-weight: lighter;\n",
              "  color: var(--sklearn-color-text-muted);\n",
              "}\n",
              "\n",
              "#sk-container-id-1 label.sk-toggleable__label-arrow:before {\n",
              "  /* Arrow on the left of the label */\n",
              "  content: \"▸\";\n",
              "  float: left;\n",
              "  margin-right: 0.25em;\n",
              "  color: var(--sklearn-color-icon);\n",
              "}\n",
              "\n",
              "#sk-container-id-1 label.sk-toggleable__label-arrow:hover:before {\n",
              "  color: var(--sklearn-color-text);\n",
              "}\n",
              "\n",
              "/* Toggleable content - dropdown */\n",
              "\n",
              "#sk-container-id-1 div.sk-toggleable__content {\n",
              "  max-height: 0;\n",
              "  max-width: 0;\n",
              "  overflow: hidden;\n",
              "  text-align: left;\n",
              "  /* unfitted */\n",
              "  background-color: var(--sklearn-color-unfitted-level-0);\n",
              "}\n",
              "\n",
              "#sk-container-id-1 div.sk-toggleable__content.fitted {\n",
              "  /* fitted */\n",
              "  background-color: var(--sklearn-color-fitted-level-0);\n",
              "}\n",
              "\n",
              "#sk-container-id-1 div.sk-toggleable__content pre {\n",
              "  margin: 0.2em;\n",
              "  border-radius: 0.25em;\n",
              "  color: var(--sklearn-color-text);\n",
              "  /* unfitted */\n",
              "  background-color: var(--sklearn-color-unfitted-level-0);\n",
              "}\n",
              "\n",
              "#sk-container-id-1 div.sk-toggleable__content.fitted pre {\n",
              "  /* unfitted */\n",
              "  background-color: var(--sklearn-color-fitted-level-0);\n",
              "}\n",
              "\n",
              "#sk-container-id-1 input.sk-toggleable__control:checked~div.sk-toggleable__content {\n",
              "  /* Expand drop-down */\n",
              "  max-height: 200px;\n",
              "  max-width: 100%;\n",
              "  overflow: auto;\n",
              "}\n",
              "\n",
              "#sk-container-id-1 input.sk-toggleable__control:checked~label.sk-toggleable__label-arrow:before {\n",
              "  content: \"▾\";\n",
              "}\n",
              "\n",
              "/* Pipeline/ColumnTransformer-specific style */\n",
              "\n",
              "#sk-container-id-1 div.sk-label input.sk-toggleable__control:checked~label.sk-toggleable__label {\n",
              "  color: var(--sklearn-color-text);\n",
              "  background-color: var(--sklearn-color-unfitted-level-2);\n",
              "}\n",
              "\n",
              "#sk-container-id-1 div.sk-label.fitted input.sk-toggleable__control:checked~label.sk-toggleable__label {\n",
              "  background-color: var(--sklearn-color-fitted-level-2);\n",
              "}\n",
              "\n",
              "/* Estimator-specific style */\n",
              "\n",
              "/* Colorize estimator box */\n",
              "#sk-container-id-1 div.sk-estimator input.sk-toggleable__control:checked~label.sk-toggleable__label {\n",
              "  /* unfitted */\n",
              "  background-color: var(--sklearn-color-unfitted-level-2);\n",
              "}\n",
              "\n",
              "#sk-container-id-1 div.sk-estimator.fitted input.sk-toggleable__control:checked~label.sk-toggleable__label {\n",
              "  /* fitted */\n",
              "  background-color: var(--sklearn-color-fitted-level-2);\n",
              "}\n",
              "\n",
              "#sk-container-id-1 div.sk-label label.sk-toggleable__label,\n",
              "#sk-container-id-1 div.sk-label label {\n",
              "  /* The background is the default theme color */\n",
              "  color: var(--sklearn-color-text-on-default-background);\n",
              "}\n",
              "\n",
              "/* On hover, darken the color of the background */\n",
              "#sk-container-id-1 div.sk-label:hover label.sk-toggleable__label {\n",
              "  color: var(--sklearn-color-text);\n",
              "  background-color: var(--sklearn-color-unfitted-level-2);\n",
              "}\n",
              "\n",
              "/* Label box, darken color on hover, fitted */\n",
              "#sk-container-id-1 div.sk-label.fitted:hover label.sk-toggleable__label.fitted {\n",
              "  color: var(--sklearn-color-text);\n",
              "  background-color: var(--sklearn-color-fitted-level-2);\n",
              "}\n",
              "\n",
              "/* Estimator label */\n",
              "\n",
              "#sk-container-id-1 div.sk-label label {\n",
              "  font-family: monospace;\n",
              "  font-weight: bold;\n",
              "  display: inline-block;\n",
              "  line-height: 1.2em;\n",
              "}\n",
              "\n",
              "#sk-container-id-1 div.sk-label-container {\n",
              "  text-align: center;\n",
              "}\n",
              "\n",
              "/* Estimator-specific */\n",
              "#sk-container-id-1 div.sk-estimator {\n",
              "  font-family: monospace;\n",
              "  border: 1px dotted var(--sklearn-color-border-box);\n",
              "  border-radius: 0.25em;\n",
              "  box-sizing: border-box;\n",
              "  margin-bottom: 0.5em;\n",
              "  /* unfitted */\n",
              "  background-color: var(--sklearn-color-unfitted-level-0);\n",
              "}\n",
              "\n",
              "#sk-container-id-1 div.sk-estimator.fitted {\n",
              "  /* fitted */\n",
              "  background-color: var(--sklearn-color-fitted-level-0);\n",
              "}\n",
              "\n",
              "/* on hover */\n",
              "#sk-container-id-1 div.sk-estimator:hover {\n",
              "  /* unfitted */\n",
              "  background-color: var(--sklearn-color-unfitted-level-2);\n",
              "}\n",
              "\n",
              "#sk-container-id-1 div.sk-estimator.fitted:hover {\n",
              "  /* fitted */\n",
              "  background-color: var(--sklearn-color-fitted-level-2);\n",
              "}\n",
              "\n",
              "/* Specification for estimator info (e.g. \"i\" and \"?\") */\n",
              "\n",
              "/* Common style for \"i\" and \"?\" */\n",
              "\n",
              ".sk-estimator-doc-link,\n",
              "a:link.sk-estimator-doc-link,\n",
              "a:visited.sk-estimator-doc-link {\n",
              "  float: right;\n",
              "  font-size: smaller;\n",
              "  line-height: 1em;\n",
              "  font-family: monospace;\n",
              "  background-color: var(--sklearn-color-background);\n",
              "  border-radius: 1em;\n",
              "  height: 1em;\n",
              "  width: 1em;\n",
              "  text-decoration: none !important;\n",
              "  margin-left: 0.5em;\n",
              "  text-align: center;\n",
              "  /* unfitted */\n",
              "  border: var(--sklearn-color-unfitted-level-1) 1pt solid;\n",
              "  color: var(--sklearn-color-unfitted-level-1);\n",
              "}\n",
              "\n",
              ".sk-estimator-doc-link.fitted,\n",
              "a:link.sk-estimator-doc-link.fitted,\n",
              "a:visited.sk-estimator-doc-link.fitted {\n",
              "  /* fitted */\n",
              "  border: var(--sklearn-color-fitted-level-1) 1pt solid;\n",
              "  color: var(--sklearn-color-fitted-level-1);\n",
              "}\n",
              "\n",
              "/* On hover */\n",
              "div.sk-estimator:hover .sk-estimator-doc-link:hover,\n",
              ".sk-estimator-doc-link:hover,\n",
              "div.sk-label-container:hover .sk-estimator-doc-link:hover,\n",
              ".sk-estimator-doc-link:hover {\n",
              "  /* unfitted */\n",
              "  background-color: var(--sklearn-color-unfitted-level-3);\n",
              "  color: var(--sklearn-color-background);\n",
              "  text-decoration: none;\n",
              "}\n",
              "\n",
              "div.sk-estimator.fitted:hover .sk-estimator-doc-link.fitted:hover,\n",
              ".sk-estimator-doc-link.fitted:hover,\n",
              "div.sk-label-container:hover .sk-estimator-doc-link.fitted:hover,\n",
              ".sk-estimator-doc-link.fitted:hover {\n",
              "  /* fitted */\n",
              "  background-color: var(--sklearn-color-fitted-level-3);\n",
              "  color: var(--sklearn-color-background);\n",
              "  text-decoration: none;\n",
              "}\n",
              "\n",
              "/* Span, style for the box shown on hovering the info icon */\n",
              ".sk-estimator-doc-link span {\n",
              "  display: none;\n",
              "  z-index: 9999;\n",
              "  position: relative;\n",
              "  font-weight: normal;\n",
              "  right: .2ex;\n",
              "  padding: .5ex;\n",
              "  margin: .5ex;\n",
              "  width: min-content;\n",
              "  min-width: 20ex;\n",
              "  max-width: 50ex;\n",
              "  color: var(--sklearn-color-text);\n",
              "  box-shadow: 2pt 2pt 4pt #999;\n",
              "  /* unfitted */\n",
              "  background: var(--sklearn-color-unfitted-level-0);\n",
              "  border: .5pt solid var(--sklearn-color-unfitted-level-3);\n",
              "}\n",
              "\n",
              ".sk-estimator-doc-link.fitted span {\n",
              "  /* fitted */\n",
              "  background: var(--sklearn-color-fitted-level-0);\n",
              "  border: var(--sklearn-color-fitted-level-3);\n",
              "}\n",
              "\n",
              ".sk-estimator-doc-link:hover span {\n",
              "  display: block;\n",
              "}\n",
              "\n",
              "/* \"?\"-specific style due to the `<a>` HTML tag */\n",
              "\n",
              "#sk-container-id-1 a.estimator_doc_link {\n",
              "  float: right;\n",
              "  font-size: 1rem;\n",
              "  line-height: 1em;\n",
              "  font-family: monospace;\n",
              "  background-color: var(--sklearn-color-background);\n",
              "  border-radius: 1rem;\n",
              "  height: 1rem;\n",
              "  width: 1rem;\n",
              "  text-decoration: none;\n",
              "  /* unfitted */\n",
              "  color: var(--sklearn-color-unfitted-level-1);\n",
              "  border: var(--sklearn-color-unfitted-level-1) 1pt solid;\n",
              "}\n",
              "\n",
              "#sk-container-id-1 a.estimator_doc_link.fitted {\n",
              "  /* fitted */\n",
              "  border: var(--sklearn-color-fitted-level-1) 1pt solid;\n",
              "  color: var(--sklearn-color-fitted-level-1);\n",
              "}\n",
              "\n",
              "/* On hover */\n",
              "#sk-container-id-1 a.estimator_doc_link:hover {\n",
              "  /* unfitted */\n",
              "  background-color: var(--sklearn-color-unfitted-level-3);\n",
              "  color: var(--sklearn-color-background);\n",
              "  text-decoration: none;\n",
              "}\n",
              "\n",
              "#sk-container-id-1 a.estimator_doc_link.fitted:hover {\n",
              "  /* fitted */\n",
              "  background-color: var(--sklearn-color-fitted-level-3);\n",
              "}\n",
              "</style><div id=\"sk-container-id-1\" class=\"sk-top-container\"><div class=\"sk-text-repr-fallback\"><pre>KNeighborsClassifier()</pre><b>In a Jupyter environment, please rerun this cell to show the HTML representation or trust the notebook. <br />On GitHub, the HTML representation is unable to render, please try loading this page with nbviewer.org.</b></div><div class=\"sk-container\" hidden><div class=\"sk-item\"><div class=\"sk-estimator fitted sk-toggleable\"><input class=\"sk-toggleable__control sk-hidden--visually\" id=\"sk-estimator-id-1\" type=\"checkbox\" checked><label for=\"sk-estimator-id-1\" class=\"sk-toggleable__label fitted sk-toggleable__label-arrow\"><div><div>KNeighborsClassifier</div></div><div><a class=\"sk-estimator-doc-link fitted\" rel=\"noreferrer\" target=\"_blank\" href=\"https://scikit-learn.org/1.6/modules/generated/sklearn.neighbors.KNeighborsClassifier.html\">?<span>Documentation for KNeighborsClassifier</span></a><span class=\"sk-estimator-doc-link fitted\">i<span>Fitted</span></span></div></label><div class=\"sk-toggleable__content fitted\"><pre>KNeighborsClassifier()</pre></div> </div></div></div></div>"
            ]
          },
          "metadata": {},
          "execution_count": 11
        }
      ],
      "source": [
        "#[4, 1, 22, 9, 7, 18, 1, 22, 9, 14, 1]\n",
        "model = KNeighborsClassifier(n_neighbors=5)\n",
        "model.fit(x_train_scaled, y_train)"
      ]
    },
    {
      "cell_type": "markdown",
      "source": [
        ">O modelo foi treinado com classificação de neighbors pelo comando \"*model.fit* \"."
      ],
      "metadata": {
        "id": "Q6SB75Rzq_Oz"
      },
      "id": "Q6SB75Rzq_Oz"
    },
    {
      "cell_type": "markdown",
      "source": [
        "- Predição do modelo sobre os dados de treino e de teste:"
      ],
      "metadata": {
        "id": "Udez7-bjrXxg"
      },
      "id": "Udez7-bjrXxg"
    },
    {
      "cell_type": "code",
      "source": [
        "predict_train = model.predict(x_train_scaled)\n",
        "predict_train"
      ],
      "metadata": {
        "colab": {
          "base_uri": "https://localhost:8080/"
        },
        "id": "RPcbTGo6SSQV",
        "outputId": "4b02a72b-1328-40c2-958e-4b4288d94ca6"
      },
      "id": "RPcbTGo6SSQV",
      "execution_count": null,
      "outputs": [
        {
          "output_type": "execute_result",
          "data": {
            "text/plain": [
              "array([0., 0., 0., ..., 0., 0., 0.])"
            ]
          },
          "metadata": {},
          "execution_count": 12
        }
      ]
    },
    {
      "cell_type": "code",
      "source": [
        "predict_test = model.predict(x_test_scaled)\n",
        "predict_test"
      ],
      "metadata": {
        "colab": {
          "base_uri": "https://localhost:8080/"
        },
        "id": "9LdzuuwpQHuU",
        "outputId": "c30a25c1-e0da-4eda-d0e3-bfe330217774"
      },
      "id": "9LdzuuwpQHuU",
      "execution_count": null,
      "outputs": [
        {
          "output_type": "execute_result",
          "data": {
            "text/plain": [
              "array([0., 0., 0., ..., 1., 0., 0.])"
            ]
          },
          "metadata": {},
          "execution_count": 13
        }
      ]
    },
    {
      "cell_type": "markdown",
      "source": [
        ">Os valores foram preditos em 0 para \"Não-Fraude\" e 1 para \"Fraude\"."
      ],
      "metadata": {
        "id": "Z78hEJydtPAf"
      },
      "id": "Z78hEJydtPAf"
    },
    {
      "cell_type": "markdown",
      "source": [
        "## + Aprendizado da máquina com 8 neighbors"
      ],
      "metadata": {
        "id": "HjgfgzNdTVfz"
      },
      "id": "HjgfgzNdTVfz"
    },
    {
      "cell_type": "markdown",
      "source": [
        "- Implementação do \"*KNeighborsClassifier* \" com 8 vizinhos:"
      ],
      "metadata": {
        "id": "Mcwhp026spC-"
      },
      "id": "Mcwhp026spC-"
    },
    {
      "cell_type": "code",
      "source": [
        "#[4, 1, 22, 9, 7, 18, 1, 22, 9, 14, 1]\n",
        "model2 = KNeighborsClassifier(n_neighbors=8)\n",
        "model2.fit(x_train_scaled, y_train)"
      ],
      "metadata": {
        "colab": {
          "base_uri": "https://localhost:8080/",
          "height": 80
        },
        "id": "qe0djFjPTgVo",
        "outputId": "b1cf1f25-7daa-4004-c4fa-f54604306cac"
      },
      "id": "qe0djFjPTgVo",
      "execution_count": null,
      "outputs": [
        {
          "output_type": "execute_result",
          "data": {
            "text/plain": [
              "KNeighborsClassifier(n_neighbors=8)"
            ],
            "text/html": [
              "<style>#sk-container-id-2 {\n",
              "  /* Definition of color scheme common for light and dark mode */\n",
              "  --sklearn-color-text: #000;\n",
              "  --sklearn-color-text-muted: #666;\n",
              "  --sklearn-color-line: gray;\n",
              "  /* Definition of color scheme for unfitted estimators */\n",
              "  --sklearn-color-unfitted-level-0: #fff5e6;\n",
              "  --sklearn-color-unfitted-level-1: #f6e4d2;\n",
              "  --sklearn-color-unfitted-level-2: #ffe0b3;\n",
              "  --sklearn-color-unfitted-level-3: chocolate;\n",
              "  /* Definition of color scheme for fitted estimators */\n",
              "  --sklearn-color-fitted-level-0: #f0f8ff;\n",
              "  --sklearn-color-fitted-level-1: #d4ebff;\n",
              "  --sklearn-color-fitted-level-2: #b3dbfd;\n",
              "  --sklearn-color-fitted-level-3: cornflowerblue;\n",
              "\n",
              "  /* Specific color for light theme */\n",
              "  --sklearn-color-text-on-default-background: var(--sg-text-color, var(--theme-code-foreground, var(--jp-content-font-color1, black)));\n",
              "  --sklearn-color-background: var(--sg-background-color, var(--theme-background, var(--jp-layout-color0, white)));\n",
              "  --sklearn-color-border-box: var(--sg-text-color, var(--theme-code-foreground, var(--jp-content-font-color1, black)));\n",
              "  --sklearn-color-icon: #696969;\n",
              "\n",
              "  @media (prefers-color-scheme: dark) {\n",
              "    /* Redefinition of color scheme for dark theme */\n",
              "    --sklearn-color-text-on-default-background: var(--sg-text-color, var(--theme-code-foreground, var(--jp-content-font-color1, white)));\n",
              "    --sklearn-color-background: var(--sg-background-color, var(--theme-background, var(--jp-layout-color0, #111)));\n",
              "    --sklearn-color-border-box: var(--sg-text-color, var(--theme-code-foreground, var(--jp-content-font-color1, white)));\n",
              "    --sklearn-color-icon: #878787;\n",
              "  }\n",
              "}\n",
              "\n",
              "#sk-container-id-2 {\n",
              "  color: var(--sklearn-color-text);\n",
              "}\n",
              "\n",
              "#sk-container-id-2 pre {\n",
              "  padding: 0;\n",
              "}\n",
              "\n",
              "#sk-container-id-2 input.sk-hidden--visually {\n",
              "  border: 0;\n",
              "  clip: rect(1px 1px 1px 1px);\n",
              "  clip: rect(1px, 1px, 1px, 1px);\n",
              "  height: 1px;\n",
              "  margin: -1px;\n",
              "  overflow: hidden;\n",
              "  padding: 0;\n",
              "  position: absolute;\n",
              "  width: 1px;\n",
              "}\n",
              "\n",
              "#sk-container-id-2 div.sk-dashed-wrapped {\n",
              "  border: 1px dashed var(--sklearn-color-line);\n",
              "  margin: 0 0.4em 0.5em 0.4em;\n",
              "  box-sizing: border-box;\n",
              "  padding-bottom: 0.4em;\n",
              "  background-color: var(--sklearn-color-background);\n",
              "}\n",
              "\n",
              "#sk-container-id-2 div.sk-container {\n",
              "  /* jupyter's `normalize.less` sets `[hidden] { display: none; }`\n",
              "     but bootstrap.min.css set `[hidden] { display: none !important; }`\n",
              "     so we also need the `!important` here to be able to override the\n",
              "     default hidden behavior on the sphinx rendered scikit-learn.org.\n",
              "     See: https://github.com/scikit-learn/scikit-learn/issues/21755 */\n",
              "  display: inline-block !important;\n",
              "  position: relative;\n",
              "}\n",
              "\n",
              "#sk-container-id-2 div.sk-text-repr-fallback {\n",
              "  display: none;\n",
              "}\n",
              "\n",
              "div.sk-parallel-item,\n",
              "div.sk-serial,\n",
              "div.sk-item {\n",
              "  /* draw centered vertical line to link estimators */\n",
              "  background-image: linear-gradient(var(--sklearn-color-text-on-default-background), var(--sklearn-color-text-on-default-background));\n",
              "  background-size: 2px 100%;\n",
              "  background-repeat: no-repeat;\n",
              "  background-position: center center;\n",
              "}\n",
              "\n",
              "/* Parallel-specific style estimator block */\n",
              "\n",
              "#sk-container-id-2 div.sk-parallel-item::after {\n",
              "  content: \"\";\n",
              "  width: 100%;\n",
              "  border-bottom: 2px solid var(--sklearn-color-text-on-default-background);\n",
              "  flex-grow: 1;\n",
              "}\n",
              "\n",
              "#sk-container-id-2 div.sk-parallel {\n",
              "  display: flex;\n",
              "  align-items: stretch;\n",
              "  justify-content: center;\n",
              "  background-color: var(--sklearn-color-background);\n",
              "  position: relative;\n",
              "}\n",
              "\n",
              "#sk-container-id-2 div.sk-parallel-item {\n",
              "  display: flex;\n",
              "  flex-direction: column;\n",
              "}\n",
              "\n",
              "#sk-container-id-2 div.sk-parallel-item:first-child::after {\n",
              "  align-self: flex-end;\n",
              "  width: 50%;\n",
              "}\n",
              "\n",
              "#sk-container-id-2 div.sk-parallel-item:last-child::after {\n",
              "  align-self: flex-start;\n",
              "  width: 50%;\n",
              "}\n",
              "\n",
              "#sk-container-id-2 div.sk-parallel-item:only-child::after {\n",
              "  width: 0;\n",
              "}\n",
              "\n",
              "/* Serial-specific style estimator block */\n",
              "\n",
              "#sk-container-id-2 div.sk-serial {\n",
              "  display: flex;\n",
              "  flex-direction: column;\n",
              "  align-items: center;\n",
              "  background-color: var(--sklearn-color-background);\n",
              "  padding-right: 1em;\n",
              "  padding-left: 1em;\n",
              "}\n",
              "\n",
              "\n",
              "/* Toggleable style: style used for estimator/Pipeline/ColumnTransformer box that is\n",
              "clickable and can be expanded/collapsed.\n",
              "- Pipeline and ColumnTransformer use this feature and define the default style\n",
              "- Estimators will overwrite some part of the style using the `sk-estimator` class\n",
              "*/\n",
              "\n",
              "/* Pipeline and ColumnTransformer style (default) */\n",
              "\n",
              "#sk-container-id-2 div.sk-toggleable {\n",
              "  /* Default theme specific background. It is overwritten whether we have a\n",
              "  specific estimator or a Pipeline/ColumnTransformer */\n",
              "  background-color: var(--sklearn-color-background);\n",
              "}\n",
              "\n",
              "/* Toggleable label */\n",
              "#sk-container-id-2 label.sk-toggleable__label {\n",
              "  cursor: pointer;\n",
              "  display: flex;\n",
              "  width: 100%;\n",
              "  margin-bottom: 0;\n",
              "  padding: 0.5em;\n",
              "  box-sizing: border-box;\n",
              "  text-align: center;\n",
              "  align-items: start;\n",
              "  justify-content: space-between;\n",
              "  gap: 0.5em;\n",
              "}\n",
              "\n",
              "#sk-container-id-2 label.sk-toggleable__label .caption {\n",
              "  font-size: 0.6rem;\n",
              "  font-weight: lighter;\n",
              "  color: var(--sklearn-color-text-muted);\n",
              "}\n",
              "\n",
              "#sk-container-id-2 label.sk-toggleable__label-arrow:before {\n",
              "  /* Arrow on the left of the label */\n",
              "  content: \"▸\";\n",
              "  float: left;\n",
              "  margin-right: 0.25em;\n",
              "  color: var(--sklearn-color-icon);\n",
              "}\n",
              "\n",
              "#sk-container-id-2 label.sk-toggleable__label-arrow:hover:before {\n",
              "  color: var(--sklearn-color-text);\n",
              "}\n",
              "\n",
              "/* Toggleable content - dropdown */\n",
              "\n",
              "#sk-container-id-2 div.sk-toggleable__content {\n",
              "  max-height: 0;\n",
              "  max-width: 0;\n",
              "  overflow: hidden;\n",
              "  text-align: left;\n",
              "  /* unfitted */\n",
              "  background-color: var(--sklearn-color-unfitted-level-0);\n",
              "}\n",
              "\n",
              "#sk-container-id-2 div.sk-toggleable__content.fitted {\n",
              "  /* fitted */\n",
              "  background-color: var(--sklearn-color-fitted-level-0);\n",
              "}\n",
              "\n",
              "#sk-container-id-2 div.sk-toggleable__content pre {\n",
              "  margin: 0.2em;\n",
              "  border-radius: 0.25em;\n",
              "  color: var(--sklearn-color-text);\n",
              "  /* unfitted */\n",
              "  background-color: var(--sklearn-color-unfitted-level-0);\n",
              "}\n",
              "\n",
              "#sk-container-id-2 div.sk-toggleable__content.fitted pre {\n",
              "  /* unfitted */\n",
              "  background-color: var(--sklearn-color-fitted-level-0);\n",
              "}\n",
              "\n",
              "#sk-container-id-2 input.sk-toggleable__control:checked~div.sk-toggleable__content {\n",
              "  /* Expand drop-down */\n",
              "  max-height: 200px;\n",
              "  max-width: 100%;\n",
              "  overflow: auto;\n",
              "}\n",
              "\n",
              "#sk-container-id-2 input.sk-toggleable__control:checked~label.sk-toggleable__label-arrow:before {\n",
              "  content: \"▾\";\n",
              "}\n",
              "\n",
              "/* Pipeline/ColumnTransformer-specific style */\n",
              "\n",
              "#sk-container-id-2 div.sk-label input.sk-toggleable__control:checked~label.sk-toggleable__label {\n",
              "  color: var(--sklearn-color-text);\n",
              "  background-color: var(--sklearn-color-unfitted-level-2);\n",
              "}\n",
              "\n",
              "#sk-container-id-2 div.sk-label.fitted input.sk-toggleable__control:checked~label.sk-toggleable__label {\n",
              "  background-color: var(--sklearn-color-fitted-level-2);\n",
              "}\n",
              "\n",
              "/* Estimator-specific style */\n",
              "\n",
              "/* Colorize estimator box */\n",
              "#sk-container-id-2 div.sk-estimator input.sk-toggleable__control:checked~label.sk-toggleable__label {\n",
              "  /* unfitted */\n",
              "  background-color: var(--sklearn-color-unfitted-level-2);\n",
              "}\n",
              "\n",
              "#sk-container-id-2 div.sk-estimator.fitted input.sk-toggleable__control:checked~label.sk-toggleable__label {\n",
              "  /* fitted */\n",
              "  background-color: var(--sklearn-color-fitted-level-2);\n",
              "}\n",
              "\n",
              "#sk-container-id-2 div.sk-label label.sk-toggleable__label,\n",
              "#sk-container-id-2 div.sk-label label {\n",
              "  /* The background is the default theme color */\n",
              "  color: var(--sklearn-color-text-on-default-background);\n",
              "}\n",
              "\n",
              "/* On hover, darken the color of the background */\n",
              "#sk-container-id-2 div.sk-label:hover label.sk-toggleable__label {\n",
              "  color: var(--sklearn-color-text);\n",
              "  background-color: var(--sklearn-color-unfitted-level-2);\n",
              "}\n",
              "\n",
              "/* Label box, darken color on hover, fitted */\n",
              "#sk-container-id-2 div.sk-label.fitted:hover label.sk-toggleable__label.fitted {\n",
              "  color: var(--sklearn-color-text);\n",
              "  background-color: var(--sklearn-color-fitted-level-2);\n",
              "}\n",
              "\n",
              "/* Estimator label */\n",
              "\n",
              "#sk-container-id-2 div.sk-label label {\n",
              "  font-family: monospace;\n",
              "  font-weight: bold;\n",
              "  display: inline-block;\n",
              "  line-height: 1.2em;\n",
              "}\n",
              "\n",
              "#sk-container-id-2 div.sk-label-container {\n",
              "  text-align: center;\n",
              "}\n",
              "\n",
              "/* Estimator-specific */\n",
              "#sk-container-id-2 div.sk-estimator {\n",
              "  font-family: monospace;\n",
              "  border: 1px dotted var(--sklearn-color-border-box);\n",
              "  border-radius: 0.25em;\n",
              "  box-sizing: border-box;\n",
              "  margin-bottom: 0.5em;\n",
              "  /* unfitted */\n",
              "  background-color: var(--sklearn-color-unfitted-level-0);\n",
              "}\n",
              "\n",
              "#sk-container-id-2 div.sk-estimator.fitted {\n",
              "  /* fitted */\n",
              "  background-color: var(--sklearn-color-fitted-level-0);\n",
              "}\n",
              "\n",
              "/* on hover */\n",
              "#sk-container-id-2 div.sk-estimator:hover {\n",
              "  /* unfitted */\n",
              "  background-color: var(--sklearn-color-unfitted-level-2);\n",
              "}\n",
              "\n",
              "#sk-container-id-2 div.sk-estimator.fitted:hover {\n",
              "  /* fitted */\n",
              "  background-color: var(--sklearn-color-fitted-level-2);\n",
              "}\n",
              "\n",
              "/* Specification for estimator info (e.g. \"i\" and \"?\") */\n",
              "\n",
              "/* Common style for \"i\" and \"?\" */\n",
              "\n",
              ".sk-estimator-doc-link,\n",
              "a:link.sk-estimator-doc-link,\n",
              "a:visited.sk-estimator-doc-link {\n",
              "  float: right;\n",
              "  font-size: smaller;\n",
              "  line-height: 1em;\n",
              "  font-family: monospace;\n",
              "  background-color: var(--sklearn-color-background);\n",
              "  border-radius: 1em;\n",
              "  height: 1em;\n",
              "  width: 1em;\n",
              "  text-decoration: none !important;\n",
              "  margin-left: 0.5em;\n",
              "  text-align: center;\n",
              "  /* unfitted */\n",
              "  border: var(--sklearn-color-unfitted-level-1) 1pt solid;\n",
              "  color: var(--sklearn-color-unfitted-level-1);\n",
              "}\n",
              "\n",
              ".sk-estimator-doc-link.fitted,\n",
              "a:link.sk-estimator-doc-link.fitted,\n",
              "a:visited.sk-estimator-doc-link.fitted {\n",
              "  /* fitted */\n",
              "  border: var(--sklearn-color-fitted-level-1) 1pt solid;\n",
              "  color: var(--sklearn-color-fitted-level-1);\n",
              "}\n",
              "\n",
              "/* On hover */\n",
              "div.sk-estimator:hover .sk-estimator-doc-link:hover,\n",
              ".sk-estimator-doc-link:hover,\n",
              "div.sk-label-container:hover .sk-estimator-doc-link:hover,\n",
              ".sk-estimator-doc-link:hover {\n",
              "  /* unfitted */\n",
              "  background-color: var(--sklearn-color-unfitted-level-3);\n",
              "  color: var(--sklearn-color-background);\n",
              "  text-decoration: none;\n",
              "}\n",
              "\n",
              "div.sk-estimator.fitted:hover .sk-estimator-doc-link.fitted:hover,\n",
              ".sk-estimator-doc-link.fitted:hover,\n",
              "div.sk-label-container:hover .sk-estimator-doc-link.fitted:hover,\n",
              ".sk-estimator-doc-link.fitted:hover {\n",
              "  /* fitted */\n",
              "  background-color: var(--sklearn-color-fitted-level-3);\n",
              "  color: var(--sklearn-color-background);\n",
              "  text-decoration: none;\n",
              "}\n",
              "\n",
              "/* Span, style for the box shown on hovering the info icon */\n",
              ".sk-estimator-doc-link span {\n",
              "  display: none;\n",
              "  z-index: 9999;\n",
              "  position: relative;\n",
              "  font-weight: normal;\n",
              "  right: .2ex;\n",
              "  padding: .5ex;\n",
              "  margin: .5ex;\n",
              "  width: min-content;\n",
              "  min-width: 20ex;\n",
              "  max-width: 50ex;\n",
              "  color: var(--sklearn-color-text);\n",
              "  box-shadow: 2pt 2pt 4pt #999;\n",
              "  /* unfitted */\n",
              "  background: var(--sklearn-color-unfitted-level-0);\n",
              "  border: .5pt solid var(--sklearn-color-unfitted-level-3);\n",
              "}\n",
              "\n",
              ".sk-estimator-doc-link.fitted span {\n",
              "  /* fitted */\n",
              "  background: var(--sklearn-color-fitted-level-0);\n",
              "  border: var(--sklearn-color-fitted-level-3);\n",
              "}\n",
              "\n",
              ".sk-estimator-doc-link:hover span {\n",
              "  display: block;\n",
              "}\n",
              "\n",
              "/* \"?\"-specific style due to the `<a>` HTML tag */\n",
              "\n",
              "#sk-container-id-2 a.estimator_doc_link {\n",
              "  float: right;\n",
              "  font-size: 1rem;\n",
              "  line-height: 1em;\n",
              "  font-family: monospace;\n",
              "  background-color: var(--sklearn-color-background);\n",
              "  border-radius: 1rem;\n",
              "  height: 1rem;\n",
              "  width: 1rem;\n",
              "  text-decoration: none;\n",
              "  /* unfitted */\n",
              "  color: var(--sklearn-color-unfitted-level-1);\n",
              "  border: var(--sklearn-color-unfitted-level-1) 1pt solid;\n",
              "}\n",
              "\n",
              "#sk-container-id-2 a.estimator_doc_link.fitted {\n",
              "  /* fitted */\n",
              "  border: var(--sklearn-color-fitted-level-1) 1pt solid;\n",
              "  color: var(--sklearn-color-fitted-level-1);\n",
              "}\n",
              "\n",
              "/* On hover */\n",
              "#sk-container-id-2 a.estimator_doc_link:hover {\n",
              "  /* unfitted */\n",
              "  background-color: var(--sklearn-color-unfitted-level-3);\n",
              "  color: var(--sklearn-color-background);\n",
              "  text-decoration: none;\n",
              "}\n",
              "\n",
              "#sk-container-id-2 a.estimator_doc_link.fitted:hover {\n",
              "  /* fitted */\n",
              "  background-color: var(--sklearn-color-fitted-level-3);\n",
              "}\n",
              "</style><div id=\"sk-container-id-2\" class=\"sk-top-container\"><div class=\"sk-text-repr-fallback\"><pre>KNeighborsClassifier(n_neighbors=8)</pre><b>In a Jupyter environment, please rerun this cell to show the HTML representation or trust the notebook. <br />On GitHub, the HTML representation is unable to render, please try loading this page with nbviewer.org.</b></div><div class=\"sk-container\" hidden><div class=\"sk-item\"><div class=\"sk-estimator fitted sk-toggleable\"><input class=\"sk-toggleable__control sk-hidden--visually\" id=\"sk-estimator-id-2\" type=\"checkbox\" checked><label for=\"sk-estimator-id-2\" class=\"sk-toggleable__label fitted sk-toggleable__label-arrow\"><div><div>KNeighborsClassifier</div></div><div><a class=\"sk-estimator-doc-link fitted\" rel=\"noreferrer\" target=\"_blank\" href=\"https://scikit-learn.org/1.6/modules/generated/sklearn.neighbors.KNeighborsClassifier.html\">?<span>Documentation for KNeighborsClassifier</span></a><span class=\"sk-estimator-doc-link fitted\">i<span>Fitted</span></span></div></label><div class=\"sk-toggleable__content fitted\"><pre>KNeighborsClassifier(n_neighbors=8)</pre></div> </div></div></div></div>"
            ]
          },
          "metadata": {},
          "execution_count": 14
        }
      ]
    },
    {
      "cell_type": "markdown",
      "source": [
        "- Predição do modelo para treino e teste:"
      ],
      "metadata": {
        "id": "ABzNm_-js2QQ"
      },
      "id": "ABzNm_-js2QQ"
    },
    {
      "cell_type": "code",
      "source": [
        "predito_train = model2.predict(x_train_scaled)\n",
        "predito_train"
      ],
      "metadata": {
        "colab": {
          "base_uri": "https://localhost:8080/"
        },
        "id": "mmSCjHfdVT-i",
        "outputId": "f375e654-8d24-4e58-8f0f-10ca67cc81d9"
      },
      "id": "mmSCjHfdVT-i",
      "execution_count": null,
      "outputs": [
        {
          "output_type": "execute_result",
          "data": {
            "text/plain": [
              "array([0., 0., 0., ..., 0., 0., 0.])"
            ]
          },
          "metadata": {},
          "execution_count": 15
        }
      ]
    },
    {
      "cell_type": "code",
      "source": [
        "predito_test = model2.predict(x_test_scaled)\n",
        "predito_test"
      ],
      "metadata": {
        "colab": {
          "base_uri": "https://localhost:8080/"
        },
        "id": "nUNxKqxOQqOM",
        "outputId": "c9e76af5-d3c0-409e-f477-def5e2f83997"
      },
      "id": "nUNxKqxOQqOM",
      "execution_count": null,
      "outputs": [
        {
          "output_type": "execute_result",
          "data": {
            "text/plain": [
              "array([0., 0., 0., ..., 1., 0., 0.])"
            ]
          },
          "metadata": {},
          "execution_count": 16
        }
      ]
    },
    {
      "cell_type": "markdown",
      "source": [
        ">Para organizar: existem agora 2 modelos, o \"*model* \" (5) e o \"*model2* \" (8); e 4 valores de saída, \"*predict_train* \", \"*predict_test* \", \"*predito_train* \" e \"*predito_test* \"."
      ],
      "metadata": {
        "id": "Om6wyEM5xcfJ"
      },
      "id": "Om6wyEM5xcfJ"
    },
    {
      "cell_type": "markdown",
      "id": "b044b551",
      "metadata": {
        "id": "b044b551"
      },
      "source": [
        "# 6. Validação"
      ]
    },
    {
      "cell_type": "markdown",
      "source": [
        "Aqui será avaliada a qualidade do modelo em prever aquilo que estamos buscando. A avaliação será baseada na acurácia e haverá uma matriz de confusão para melhor entendimento."
      ],
      "metadata": {
        "id": "hTnbVZNT9W8t"
      },
      "id": "hTnbVZNT9W8t"
    },
    {
      "cell_type": "markdown",
      "source": [
        "## Comparação da acurácia com 5 neighbors:"
      ],
      "metadata": {
        "id": "5CMrI1m5R7Nb"
      },
      "id": "5CMrI1m5R7Nb"
    },
    {
      "cell_type": "markdown",
      "source": [
        "O \"*accuracy_score* \" está sendo utilizado para medir a acurácia entre o valor esperado (y) e o apresentado pelo modelo (predict):"
      ],
      "metadata": {
        "id": "CHVJ-Rn-9VXG"
      },
      "id": "CHVJ-Rn-9VXG"
    },
    {
      "cell_type": "code",
      "execution_count": null,
      "id": "a9028d95",
      "metadata": {
        "id": "a9028d95",
        "colab": {
          "base_uri": "https://localhost:8080/"
        },
        "outputId": "80b378f4-2ba8-4efe-a815-492eb361471e"
      },
      "outputs": [
        {
          "output_type": "execute_result",
          "data": {
            "text/plain": [
              "0.98096875"
            ]
          },
          "metadata": {},
          "execution_count": 17
        }
      ],
      "source": [
        "accuracy_score(y_train, predict_train)"
      ]
    },
    {
      "cell_type": "code",
      "source": [
        "accuracy_score(y_test, predict_test)"
      ],
      "metadata": {
        "colab": {
          "base_uri": "https://localhost:8080/"
        },
        "id": "IsQHciNeRkqU",
        "outputId": "26a2e523-19aa-4bca-d459-19d0a41d7f01"
      },
      "id": "IsQHciNeRkqU",
      "execution_count": null,
      "outputs": [
        {
          "output_type": "execute_result",
          "data": {
            "text/plain": [
              "0.9804"
            ]
          },
          "metadata": {},
          "execution_count": 18
        }
      ]
    },
    {
      "cell_type": "markdown",
      "source": [
        ">A proporção de acertos em relação ao número total de previsões feitas, nos dois casos, é de aproximadamente 98%. Isso demonstra que o modelo aprendeu de maneira razoável o padrão geral dos dados, pois a acurácia do teste é quase igual a do treino, ficando entre 98,09% e 98,04%."
      ],
      "metadata": {
        "id": "zrGkFrsi_d9W"
      },
      "id": "zrGkFrsi_d9W"
    },
    {
      "cell_type": "markdown",
      "source": [
        "- Matriz de Confusão:"
      ],
      "metadata": {
        "id": "PG8yy-QjduKk"
      },
      "id": "PG8yy-QjduKk"
    },
    {
      "cell_type": "code",
      "source": [
        "#[4, 1, 22, 9, 7, 18, 1, 22, 9, 14, 1]\n",
        "mc = confusion_matrix(y_test, predict_test)\n",
        "\n",
        "disp = ConfusionMatrixDisplay(confusion_matrix = mc)\n",
        "disp.plot(cmap=plt.cm.Blues)\n",
        "plt.title('Confusion Matrix')\n",
        "plt.show()"
      ],
      "metadata": {
        "colab": {
          "base_uri": "https://localhost:8080/",
          "height": 472
        },
        "id": "ssjbBqT7b23q",
        "outputId": "16075a57-8926-4346-e6a2-dc7c63b4a4bf"
      },
      "id": "ssjbBqT7b23q",
      "execution_count": null,
      "outputs": [
        {
          "output_type": "display_data",
          "data": {
            "text/plain": [
              "<Figure size 640x480 with 2 Axes>"
            ],
            "image/png": "[encoded data removed]"
          },
          "metadata": {}
        }
      ]
    },
    {
      "cell_type": "markdown",
      "source": [
        ">A matriz mostra que o modelo teve mais sucesso em identificar não-fraudes do que de fato, fraudes.\n",
        ">- Um problema revelado por essa matriz é a quantidade de casos de fraude em que o modelo falhou ao indentificar e considerou como não-fraude.\n",
        ">- Por outro lado, a quantidade de casos onde uma matriz considerou situações de não-fraudes como fraudes foi inferior aos demais casos.\n",
        "\n",
        ">Contudo, considerando que o modelo tem por objetivo a identificação de fraudes específicamente, pode-se dizer que ele não está tão bom. Embora sua acurácia em acertos esteja aceitável, a quantidade de fraudes que ele não conseguiu identificar está muito elevada, considerando que é um fator de risco. Somente 78% das previsões de fraude foram bem-sucedidas."
      ],
      "metadata": {
        "id": "9QvDZK88drCt"
      },
      "id": "9QvDZK88drCt"
    },
    {
      "cell_type": "markdown",
      "source": [
        "## Comparação da acurácia com 8 neighbors:"
      ],
      "metadata": {
        "id": "lmB5yMdoSJGj"
      },
      "id": "lmB5yMdoSJGj"
    },
    {
      "cell_type": "markdown",
      "source": [
        "O \"accuracy_score \" está sendo utilizado para medir a acurácia entre o valor esperado (y) e o apresentado pelo modelo (predito):"
      ],
      "metadata": {
        "id": "8eGUb_1yC90k"
      },
      "id": "8eGUb_1yC90k"
    },
    {
      "cell_type": "code",
      "source": [
        "accuracy_score(y_train, predito_train)"
      ],
      "metadata": {
        "colab": {
          "base_uri": "https://localhost:8080/"
        },
        "id": "A0a67tfpSi1b",
        "outputId": "b341b987-dc3c-40e0-fd76-6f8d0d805484"
      },
      "id": "A0a67tfpSi1b",
      "execution_count": null,
      "outputs": [
        {
          "output_type": "execute_result",
          "data": {
            "text/plain": [
              "0.98073875"
            ]
          },
          "metadata": {},
          "execution_count": 20
        }
      ]
    },
    {
      "cell_type": "code",
      "source": [
        "accuracy_score(y_test, predito_test)"
      ],
      "metadata": {
        "colab": {
          "base_uri": "https://localhost:8080/"
        },
        "id": "JMZOLX6VSoMc",
        "outputId": "5d7567dc-bd3a-4a5e-b7c8-28efbf9787c8"
      },
      "id": "JMZOLX6VSoMc",
      "execution_count": null,
      "outputs": [
        {
          "output_type": "execute_result",
          "data": {
            "text/plain": [
              "0.980735"
            ]
          },
          "metadata": {},
          "execution_count": 21
        }
      ]
    },
    {
      "cell_type": "markdown",
      "source": [
        ">A proporção de acertos em relação ao número total de previsões feitas, nos dois casos, é de aproximadamente 98%. Porém, neste caso, o modelo aprendeu de maneira superior o padrão geral dos dados, em comparação ao anterior, pois a acurácia do teste é quase igual a do treino. Essa melhora na acurácia pode ter sido causada pelo aumento da quantidade de vizinhos."
      ],
      "metadata": {
        "id": "CzKnk_dmB-rw"
      },
      "id": "CzKnk_dmB-rw"
    },
    {
      "cell_type": "markdown",
      "source": [
        "- Matriz de Confusão:"
      ],
      "metadata": {
        "id": "EF-TI4Qg5Yvm"
      },
      "id": "EF-TI4Qg5Yvm"
    },
    {
      "cell_type": "code",
      "source": [
        "#[4, 1, 22, 9, 7, 18, 1, 22, 9, 14, 1]\n",
        "mc2 = confusion_matrix(y_test, predito_test)\n",
        "\n",
        "disp = ConfusionMatrixDisplay(confusion_matrix = mc2)\n",
        "disp.plot(cmap=plt.cm.Blues)\n",
        "plt.title('Confusion Matrix')\n",
        "plt.show()"
      ],
      "metadata": {
        "colab": {
          "base_uri": "https://localhost:8080/",
          "height": 472
        },
        "id": "rkCjduiFZ-4j",
        "outputId": "8afeb3a8-668d-4e3b-b773-948b491628e4"
      },
      "id": "rkCjduiFZ-4j",
      "execution_count": null,
      "outputs": [
        {
          "output_type": "display_data",
          "data": {
            "text/plain": [
              "<Figure size 640x480 with 2 Axes>"
            ],
            "image/png": "[encoded data removed]"
          },
          "metadata": {}
        }
      ]
    },
    {
      "cell_type": "markdown",
      "source": [
        ">Essa matriz também mostra que o modelo teve mais sucesso em identificar não-fraudes do que de fato, fraudes.\n",
        ">- Com o número de vizinhos tendo aumentado, foi possível observar com mais precisão o padrão de valores, o que fez com que a quantidade de erros do modelo em considerar não-fraudes como fraudes diminuísse drasticamente.\n",
        ">- Porém isso acabou piorando a situação anterior, fazendo com que o número de falhas ao identificar uma fraude legítima aumentasse.\n",
        "\n",
        ">Com isso, foi possível perceber que o aumento de vizinhos não foi um processo tão vantajoso neste caso, embora tenha diminuído a identificação de falsas fraudes, a falha na identificação de fraudes verdadeiras aumentou em 0,7% e a predição bem-sucedida de fraudes diminuiu em 0,2%.\n"
      ],
      "metadata": {
        "id": "rQWr88jIzHNW"
      },
      "id": "rQWr88jIzHNW"
    },
    {
      "cell_type": "markdown",
      "id": "f2607637",
      "metadata": {
        "id": "f2607637"
      },
      "source": [
        "# 7. Conclusão"
      ]
    },
    {
      "cell_type": "markdown",
      "source": [
        "## Sobre o modelo e suas possíveis melhorias"
      ],
      "metadata": {
        "id": "5MHtXzh35qEV"
      },
      "id": "5MHtXzh35qEV"
    },
    {
      "cell_type": "markdown",
      "source": [
        "O modelo de Machine Learning desenvolvido aqui é baseado em KNN por classificação. Ao organizar, estruturar e padronizar os dados recebidos, foi possível ensinar o modelo a prever fraudes de  cartão de crédito, identificando quais transações eram e quais não eram fraudes.\n",
        "\n",
        "A acurácia apresentada pelo modelo se mostrou agradável, representando uma grande porcentagem de acertos em predição de casos (o número de acertos é quase 5000% maior do que o número de erros), contudo, ainda deixa a desejar. A quantidade de erros de predição se mostra alta quando é levado em considerção o risco oferecido nesses casos, e mesmo que se mude o número de vizinhos para classificação, ainda não apresenta números tão agradáveis.\n",
        "\n",
        "---\n",
        "\n"
      ],
      "metadata": {
        "id": "Ib9AWXcj6NX1"
      },
      "id": "Ib9AWXcj6NX1"
    },
    {
      "cell_type": "markdown",
      "source": [
        "O que pode ser melhorado para tornar o modelo mais preciso em seu objetivo é a quantidade de vizinhos definidos:\n",
        "- Embora o aumento de 5 para 8 tenha dado resultados desagradáveis, isso provavelmente se deu por os vizinhos adicionados no aumento ajudarem o modelo a prever não-fraudes em sua maioria.\n",
        "- A evidência disso é o fato de o aumento para 8 vizinhos ter diminuído drasticamente a quantidade de FP (falsos positivos), mostrando um inegável ajuste, porém, se esse ajuste tiver ensinado o modelo a identificar mais os padrões de uma não-fraude, seria plausível que o numero de erros ao identificar fraudes aumentasse.\n",
        "- Caso fosse definido um número maior de vizinhos, é provável que haja um número de casos de fraude maior, permitindo que o modelo identifique com mais acertividade a situações desejadas por meio de novos padrões."
      ],
      "metadata": {
        "id": "uWkqRuskBmCo"
      },
      "id": "uWkqRuskBmCo"
    },
    {
      "cell_type": "markdown",
      "source": [
        "## Sobre o aprimoramento do modelo"
      ],
      "metadata": {
        "id": "4qkTfEhzGLlq"
      },
      "id": "4qkTfEhzGLlq"
    },
    {
      "cell_type": "markdown",
      "source": [
        "Uma alternativa para aprimorar o modelo seria optar por outro algorítmo:\n",
        "- O KNN pode é inegavelmente um poderoso algorítmo para Machine Learning, porém muitas vezes não cumpre com o objetivo serne da situação.\n",
        "- Classificar valores por proximidade nem sempre fará sentido, pois podem haver situações em que os alvos estão isolados e não tenham relação com aqueles à sua volta.\n",
        "- Uma solução inteligente neste caso é o uso do algorítmo *Árvore de Decisão*, pois a cada passo, o algoritmo toma uma decisão com base em uma condição lógica sobre uma das variáveis. Assim, em vez de inferência, o modelo trabalharia com razão e condição."
      ],
      "metadata": {
        "id": "LM1WvFL6GfXb"
      },
      "id": "LM1WvFL6GfXb"
    }
  ],
  "metadata": {
    "colab": {
      "provenance": [],
      "collapsed_sections": [
        "1c6b4018",
        "a6YJ-iI2d9qq",
        "6aa15ebe",
        "cDS_uvPxFKBn",
        "3NaJLfsXGpc6",
        "d41b8159",
        "y41iQedySoRX",
        "HjgfgzNdTVfz",
        "lmB5yMdoSJGj"
      ],
      "include_colab_link": true
    },
    "language_info": {
      "name": "python"
    },
    "kernelspec": {
      "name": "python3",
      "display_name": "Python 3"
    }
  },
  "nbformat": 4,
  "nbformat_minor": 5
}