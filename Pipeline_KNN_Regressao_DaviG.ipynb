{
  "cells": [
    {
      "cell_type": "markdown",
      "metadata": {
        "id": "view-in-github",
        "colab_type": "text"
      },
      "source": [
        "<a href=\"https://colab.research.google.com/github/DMGravina/hefhehveev/blob/main/Pipeline_KNN_Regressao_DaviG.ipynb\" target=\"_parent\"><img src=\"https://colab.research.google.com/assets/colab-badge.svg\" alt=\"Open In Colab\"/></a>"
      ]
    },
    {
      "cell_type": "markdown",
      "id": "1c6b4018",
      "metadata": {
        "id": "1c6b4018"
      },
      "source": [
        "# Atividade de Machine Learning Supervisionado - Regressão com KNN"
      ]
    },
    {
      "cell_type": "markdown",
      "source": [
        "🏡 Introdução ao Problema: Preço de Casas na Califórnia\n",
        "\n",
        "O conjunto de dados California Housing contém informações agregadas de características socioeconômicas de diversas regiões da Califórnia, baseadas no censo de 1990 dos Estados Unidos. O objetivo principal é prever o valor médio das casas em uma determinada região, a partir de variáveis como:\n",
        "\n",
        "Média de quartos por residência;\n",
        "\n",
        "Média de quartos por casa;\n",
        "\n",
        "População da região;\n",
        "\n",
        "Renda média por domicílio;\n",
        "\n",
        "Proximidade com o oceano;\n",
        "\n",
        "Idade média das residências."
      ],
      "metadata": {
        "id": "EOxpI4s3UHyy"
      },
      "id": "EOxpI4s3UHyy"
    },
    {
      "cell_type": "markdown",
      "id": "43ebefef",
      "metadata": {
        "id": "43ebefef"
      },
      "source": [
        "**Proposta:** Construir uma pipeline completa de regressão utilizando Python com KNN Regressor (Scikit-Learn), aplicando conceitos de machine learning supervisionado."
      ]
    },
    {
      "cell_type": "markdown",
      "id": "22fbc93e",
      "metadata": {
        "id": "22fbc93e"
      },
      "source": [
        "## 1. Importação de Bibliotecas"
      ]
    },
    {
      "cell_type": "code",
      "execution_count": null,
      "id": "bae5a234",
      "metadata": {
        "id": "bae5a234"
      },
      "outputs": [],
      "source": [
        "import pandas as pd\n",
        "import numpy as np\n",
        "from sklearn.model_selection import train_test_split\n",
        "from sklearn.neighbors import KNeighborsRegressor\n",
        "from sklearn.preprocessing import StandardScaler\n",
        "from sklearn.metrics import mean_squared_error"
      ]
    },
    {
      "cell_type": "markdown",
      "id": "964cb6c4",
      "metadata": {
        "id": "964cb6c4"
      },
      "source": [
        "**Perguntas:**\n",
        "- Quais bibliotecas são responsáveis por:\n",
        "  - Dividir os dados?\n",
        "  - Normalizar os dados?\n",
        "  - Avaliar o modelo?"
      ]
    },
    {
      "cell_type": "markdown",
      "source": [
        "####+ Divisão de Dados\n",
        "- As bibliotecas para divisão de dados são a '**pandas**', juntamente com a '**train_test_split**'.\n",
        "\n",
        "####+ Normalização de Dados\n",
        "- Para a normalização dos dados, é possível utilizar funções da biblioteca '**pandas**', porém, o mais comum é a utilização da '**StandardScaler**'.\n",
        "\n",
        "####+ Avaliação do Modelo\n",
        "- A '**mean_squared_score**', que é importada da '**sklearn.metrics**' é a biblioteca destinada para avaliar o modelo."
      ],
      "metadata": {
        "id": "Zb5R7Pj-L5TG"
      },
      "id": "Zb5R7Pj-L5TG"
    },
    {
      "cell_type": "markdown",
      "id": "6aa15ebe",
      "metadata": {
        "id": "6aa15ebe"
      },
      "source": [
        "## 2. Carregamento do Dataset\n",
        "\n",
        "Use o dataset de preco de venda de casa para prever o valor de venda de uma casa na California."
      ]
    },
    {
      "cell_type": "code",
      "execution_count": null,
      "id": "29a3847b",
      "metadata": {
        "id": "29a3847b"
      },
      "outputs": [],
      "source": [
        "from sklearn.datasets import fetch_california_housing\n",
        "data = fetch_california_housing(as_frame=True)\n",
        "df = data.frame"
      ]
    },
    {
      "cell_type": "markdown",
      "id": "87260bcd",
      "metadata": {
        "id": "87260bcd"
      },
      "source": [
        "**Pergunta:** Que tipo de problema é esse? Supervisionado ou não supervisionado? Justifique."
      ]
    },
    {
      "cell_type": "markdown",
      "source": [
        "- Supervisionado, pois o objetivo é prever o valor do preço das casas com base nas características dos imóveis, ou seja, treinar o modelo com exemplos rotulados e compará-los ao que se espera."
      ],
      "metadata": {
        "id": "1gi_-qyHSHQ4"
      },
      "id": "1gi_-qyHSHQ4"
    },
    {
      "cell_type": "markdown",
      "id": "937aab18",
      "metadata": {
        "id": "937aab18"
      },
      "source": [
        "## 3. Análise Exploratória dos Dados"
      ]
    },
    {
      "cell_type": "code",
      "execution_count": null,
      "id": "1591615a",
      "metadata": {
        "id": "1591615a",
        "colab": {
          "base_uri": "https://localhost:8080/"
        },
        "outputId": "64c1d826-dde7-440f-92b0-50a56a943cb0"
      },
      "outputs": [
        {
          "output_type": "stream",
          "name": "stdout",
          "text": [
            "   MedInc  HouseAge  AveRooms  AveBedrms  Population  AveOccup  Latitude  \\\n",
            "0  8.3252      41.0  6.984127   1.023810       322.0  2.555556     37.88   \n",
            "1  8.3014      21.0  6.238137   0.971880      2401.0  2.109842     37.86   \n",
            "2  7.2574      52.0  8.288136   1.073446       496.0  2.802260     37.85   \n",
            "3  5.6431      52.0  5.817352   1.073059       558.0  2.547945     37.85   \n",
            "4  3.8462      52.0  6.281853   1.081081       565.0  2.181467     37.85   \n",
            "\n",
            "   Longitude  MedHouseVal  \n",
            "0    -122.23        4.526  \n",
            "1    -122.22        3.585  \n",
            "2    -122.24        3.521  \n",
            "3    -122.25        3.413  \n",
            "4    -122.25        3.422  \n",
            "             MedInc      HouseAge      AveRooms     AveBedrms    Population  \\\n",
            "count  20640.000000  20640.000000  20640.000000  20640.000000  20640.000000   \n",
            "mean       3.870671     28.639486      5.429000      1.096675   1425.476744   \n",
            "std        1.899822     12.585558      2.474173      0.473911   1132.462122   \n",
            "min        0.499900      1.000000      0.846154      0.333333      3.000000   \n",
            "25%        2.563400     18.000000      4.440716      1.006079    787.000000   \n",
            "50%        3.534800     29.000000      5.229129      1.048780   1166.000000   \n",
            "75%        4.743250     37.000000      6.052381      1.099526   1725.000000   \n",
            "max       15.000100     52.000000    141.909091     34.066667  35682.000000   \n",
            "\n",
            "           AveOccup      Latitude     Longitude   MedHouseVal  \n",
            "count  20640.000000  20640.000000  20640.000000  20640.000000  \n",
            "mean       3.070655     35.631861   -119.569704      2.068558  \n",
            "std       10.386050      2.135952      2.003532      1.153956  \n",
            "min        0.692308     32.540000   -124.350000      0.149990  \n",
            "25%        2.429741     33.930000   -121.800000      1.196000  \n",
            "50%        2.818116     34.260000   -118.490000      1.797000  \n",
            "75%        3.282261     37.710000   -118.010000      2.647250  \n",
            "max     1243.333333     41.950000   -114.310000      5.000010  \n",
            "\n",
            "MedInc         0\n",
            "HouseAge       0\n",
            "AveRooms       0\n",
            "AveBedrms      0\n",
            "Population     0\n",
            "AveOccup       0\n",
            "Latitude       0\n",
            "Longitude      0\n",
            "MedHouseVal    0\n",
            "dtype: int64\n"
          ]
        }
      ],
      "source": [
        "print(df.head())\n",
        "print(df.describe())\n",
        "print()\n",
        "print(df.isnull().sum())"
      ]
    },
    {
      "cell_type": "markdown",
      "id": "0a1be0c6",
      "metadata": {
        "id": "0a1be0c6"
      },
      "source": [
        "**Perguntas:**\n",
        "- Há valores ausentes?\n",
        "- Qual é a variável-alvo? O que ela representa?"
      ]
    },
    {
      "cell_type": "markdown",
      "source": [
        "1) Não há valores ausentes, o comando '**df.isnull().sum()**' gera uma lista da soma dos valores ausentes, porém não houve registro destes.\n",
        "\n",
        "2) A variável-alvo é a \"**MedHouseVal**\", pois ela traz a média do valor do preço das casas, que é o que se busca."
      ],
      "metadata": {
        "id": "hQ0EdzflTlSp"
      },
      "id": "hQ0EdzflTlSp"
    },
    {
      "cell_type": "markdown",
      "id": "d41b8159",
      "metadata": {
        "id": "d41b8159"
      },
      "source": [
        "## 4. Separação de Variáveis (X e y)"
      ]
    },
    {
      "cell_type": "code",
      "execution_count": null,
      "id": "8dddf197",
      "metadata": {
        "id": "8dddf197"
      },
      "outputs": [],
      "source": [
        "X = df.drop(\"MedHouseVal\", axis=1)\n",
        "y = df[\"MedHouseVal\"]"
      ]
    },
    {
      "cell_type": "markdown",
      "id": "cd7bedf5",
      "metadata": {
        "id": "cd7bedf5"
      },
      "source": [
        "**Perguntas:**\n",
        "- O que representa `X`?\n",
        "- E `y`?"
      ]
    },
    {
      "cell_type": "markdown",
      "source": [
        "1) *X* é a variável que armazena os valores dos dados apresentados, tirando a variável \"**MedHouseVal**\", para que esses dados possam ser utilizados no aprendizado da máquina.\n",
        "\n",
        "2) *y* é a variável que armazena \"**MedHouseVal**\" e que devolve o valor que queremos prever, com base nos dados de *X*."
      ],
      "metadata": {
        "id": "ilj3f9kKWT56"
      },
      "id": "ilj3f9kKWT56"
    },
    {
      "cell_type": "markdown",
      "id": "3973aabc",
      "metadata": {
        "id": "3973aabc"
      },
      "source": [
        "## 5. Divisão em Treino e Teste"
      ]
    },
    {
      "cell_type": "code",
      "execution_count": null,
      "id": "7eca8662",
      "metadata": {
        "id": "7eca8662"
      },
      "outputs": [],
      "source": [
        "X_train, X_test, y_train, y_test = train_test_split(X, y, test_size=0.2, random_state=42)"
      ]
    },
    {
      "cell_type": "markdown",
      "id": "5d0dc5a3",
      "metadata": {
        "id": "5d0dc5a3"
      },
      "source": [
        "**Perguntas:**\n",
        "- Qual o motivo de dividir os dados?\n",
        "- O que representa o parâmetro `test_size=0.2`?"
      ]
    },
    {
      "cell_type": "markdown",
      "source": [
        "1) Essa divisão se dá pelo objetivo de treinar a máquina, antes de obter os resultados previstos. \"**X_train**\" e \"**y_train**\" são destinados a armazenar os valores que serão usados para ensinar a máquina a identificar o padrão. \"**X_test**\" e \"**y_test**\" armazenam os valores separados para realizar as previsões de maneira supervisionada.\n",
        "\n",
        "2) O \"**test_size**\" define a porcentagem dos dados que serão destinados ao teste de previsão. Nesse caso, a porcentagem dos dados de teste é 20% (*0.2* )."
      ],
      "metadata": {
        "id": "t7WIBrwl4IiN"
      },
      "id": "t7WIBrwl4IiN"
    },
    {
      "cell_type": "markdown",
      "id": "f793bf54",
      "metadata": {
        "id": "f793bf54"
      },
      "source": [
        "## 6. Padronização dos Dados"
      ]
    },
    {
      "cell_type": "code",
      "execution_count": null,
      "id": "63ef81d2",
      "metadata": {
        "id": "63ef81d2"
      },
      "outputs": [],
      "source": [
        "scaler = StandardScaler()\n",
        "X_train_scaled = scaler.fit_transform(X_train)\n",
        "X_test_scaled = scaler.transform(X_test)"
      ]
    },
    {
      "cell_type": "markdown",
      "id": "38f476db",
      "metadata": {
        "id": "38f476db"
      },
      "source": [
        "**Perguntas:**\n",
        "- Por que devemos padronizar os dados?\n",
        "- Por que `fit_transform` é usado no treino e só `transform` no teste?"
      ]
    },
    {
      "cell_type": "markdown",
      "source": [
        "1) Porque muitos algoritimos de ML são sensíveis à escala das variáveis. Portanto, a padronização evita que variáveis com valores maiores dominem o aprendizado e torna a distância entre pontos mais coerente.\n",
        "\n",
        "2) Porque a função \" **fit()** \" é responsável por calcular a média e o desvio padrão dos dados que serão padronizados pelo \"**transform()**\". A \"**fit()**\" só é usada no dados de treino, pois se for usada nos dados de teste também, a função ajustaria o desvio padrão de acordo com as informações do treino, ou seja, a predição se tornará pobre pois se ajustará a resultados ja existentes."
      ],
      "metadata": {
        "id": "l1hX7xO2EP_q"
      },
      "id": "l1hX7xO2EP_q"
    },
    {
      "cell_type": "markdown",
      "id": "55cf902a",
      "metadata": {
        "id": "55cf902a"
      },
      "source": [
        "## 7. Criação e Treinamento do Modelo com KNN"
      ]
    },
    {
      "cell_type": "code",
      "execution_count": null,
      "id": "8843d459",
      "metadata": {
        "id": "8843d459",
        "colab": {
          "base_uri": "https://localhost:8080/",
          "height": 80
        },
        "outputId": "bea03c73-8f00-4904-9b38-8dce4c52fead"
      },
      "outputs": [
        {
          "output_type": "execute_result",
          "data": {
            "text/plain": [
              "KNeighborsRegressor()"
            ],
            "text/html": [
              "<style>#sk-container-id-1 {\n",
              "  /* Definition of color scheme common for light and dark mode */\n",
              "  --sklearn-color-text: #000;\n",
              "  --sklearn-color-text-muted: #666;\n",
              "  --sklearn-color-line: gray;\n",
              "  /* Definition of color scheme for unfitted estimators */\n",
              "  --sklearn-color-unfitted-level-0: #fff5e6;\n",
              "  --sklearn-color-unfitted-level-1: #f6e4d2;\n",
              "  --sklearn-color-unfitted-level-2: #ffe0b3;\n",
              "  --sklearn-color-unfitted-level-3: chocolate;\n",
              "  /* Definition of color scheme for fitted estimators */\n",
              "  --sklearn-color-fitted-level-0: #f0f8ff;\n",
              "  --sklearn-color-fitted-level-1: #d4ebff;\n",
              "  --sklearn-color-fitted-level-2: #b3dbfd;\n",
              "  --sklearn-color-fitted-level-3: cornflowerblue;\n",
              "\n",
              "  /* Specific color for light theme */\n",
              "  --sklearn-color-text-on-default-background: var(--sg-text-color, var(--theme-code-foreground, var(--jp-content-font-color1, black)));\n",
              "  --sklearn-color-background: var(--sg-background-color, var(--theme-background, var(--jp-layout-color0, white)));\n",
              "  --sklearn-color-border-box: var(--sg-text-color, var(--theme-code-foreground, var(--jp-content-font-color1, black)));\n",
              "  --sklearn-color-icon: #696969;\n",
              "\n",
              "  @media (prefers-color-scheme: dark) {\n",
              "    /* Redefinition of color scheme for dark theme */\n",
              "    --sklearn-color-text-on-default-background: var(--sg-text-color, var(--theme-code-foreground, var(--jp-content-font-color1, white)));\n",
              "    --sklearn-color-background: var(--sg-background-color, var(--theme-background, var(--jp-layout-color0, #111)));\n",
              "    --sklearn-color-border-box: var(--sg-text-color, var(--theme-code-foreground, var(--jp-content-font-color1, white)));\n",
              "    --sklearn-color-icon: #878787;\n",
              "  }\n",
              "}\n",
              "\n",
              "#sk-container-id-1 {\n",
              "  color: var(--sklearn-color-text);\n",
              "}\n",
              "\n",
              "#sk-container-id-1 pre {\n",
              "  padding: 0;\n",
              "}\n",
              "\n",
              "#sk-container-id-1 input.sk-hidden--visually {\n",
              "  border: 0;\n",
              "  clip: rect(1px 1px 1px 1px);\n",
              "  clip: rect(1px, 1px, 1px, 1px);\n",
              "  height: 1px;\n",
              "  margin: -1px;\n",
              "  overflow: hidden;\n",
              "  padding: 0;\n",
              "  position: absolute;\n",
              "  width: 1px;\n",
              "}\n",
              "\n",
              "#sk-container-id-1 div.sk-dashed-wrapped {\n",
              "  border: 1px dashed var(--sklearn-color-line);\n",
              "  margin: 0 0.4em 0.5em 0.4em;\n",
              "  box-sizing: border-box;\n",
              "  padding-bottom: 0.4em;\n",
              "  background-color: var(--sklearn-color-background);\n",
              "}\n",
              "\n",
              "#sk-container-id-1 div.sk-container {\n",
              "  /* jupyter's `normalize.less` sets `[hidden] { display: none; }`\n",
              "     but bootstrap.min.css set `[hidden] { display: none !important; }`\n",
              "     so we also need the `!important` here to be able to override the\n",
              "     default hidden behavior on the sphinx rendered scikit-learn.org.\n",
              "     See: https://github.com/scikit-learn/scikit-learn/issues/21755 */\n",
              "  display: inline-block !important;\n",
              "  position: relative;\n",
              "}\n",
              "\n",
              "#sk-container-id-1 div.sk-text-repr-fallback {\n",
              "  display: none;\n",
              "}\n",
              "\n",
              "div.sk-parallel-item,\n",
              "div.sk-serial,\n",
              "div.sk-item {\n",
              "  /* draw centered vertical line to link estimators */\n",
              "  background-image: linear-gradient(var(--sklearn-color-text-on-default-background), var(--sklearn-color-text-on-default-background));\n",
              "  background-size: 2px 100%;\n",
              "  background-repeat: no-repeat;\n",
              "  background-position: center center;\n",
              "}\n",
              "\n",
              "/* Parallel-specific style estimator block */\n",
              "\n",
              "#sk-container-id-1 div.sk-parallel-item::after {\n",
              "  content: \"\";\n",
              "  width: 100%;\n",
              "  border-bottom: 2px solid var(--sklearn-color-text-on-default-background);\n",
              "  flex-grow: 1;\n",
              "}\n",
              "\n",
              "#sk-container-id-1 div.sk-parallel {\n",
              "  display: flex;\n",
              "  align-items: stretch;\n",
              "  justify-content: center;\n",
              "  background-color: var(--sklearn-color-background);\n",
              "  position: relative;\n",
              "}\n",
              "\n",
              "#sk-container-id-1 div.sk-parallel-item {\n",
              "  display: flex;\n",
              "  flex-direction: column;\n",
              "}\n",
              "\n",
              "#sk-container-id-1 div.sk-parallel-item:first-child::after {\n",
              "  align-self: flex-end;\n",
              "  width: 50%;\n",
              "}\n",
              "\n",
              "#sk-container-id-1 div.sk-parallel-item:last-child::after {\n",
              "  align-self: flex-start;\n",
              "  width: 50%;\n",
              "}\n",
              "\n",
              "#sk-container-id-1 div.sk-parallel-item:only-child::after {\n",
              "  width: 0;\n",
              "}\n",
              "\n",
              "/* Serial-specific style estimator block */\n",
              "\n",
              "#sk-container-id-1 div.sk-serial {\n",
              "  display: flex;\n",
              "  flex-direction: column;\n",
              "  align-items: center;\n",
              "  background-color: var(--sklearn-color-background);\n",
              "  padding-right: 1em;\n",
              "  padding-left: 1em;\n",
              "}\n",
              "\n",
              "\n",
              "/* Toggleable style: style used for estimator/Pipeline/ColumnTransformer box that is\n",
              "clickable and can be expanded/collapsed.\n",
              "- Pipeline and ColumnTransformer use this feature and define the default style\n",
              "- Estimators will overwrite some part of the style using the `sk-estimator` class\n",
              "*/\n",
              "\n",
              "/* Pipeline and ColumnTransformer style (default) */\n",
              "\n",
              "#sk-container-id-1 div.sk-toggleable {\n",
              "  /* Default theme specific background. It is overwritten whether we have a\n",
              "  specific estimator or a Pipeline/ColumnTransformer */\n",
              "  background-color: var(--sklearn-color-background);\n",
              "}\n",
              "\n",
              "/* Toggleable label */\n",
              "#sk-container-id-1 label.sk-toggleable__label {\n",
              "  cursor: pointer;\n",
              "  display: flex;\n",
              "  width: 100%;\n",
              "  margin-bottom: 0;\n",
              "  padding: 0.5em;\n",
              "  box-sizing: border-box;\n",
              "  text-align: center;\n",
              "  align-items: start;\n",
              "  justify-content: space-between;\n",
              "  gap: 0.5em;\n",
              "}\n",
              "\n",
              "#sk-container-id-1 label.sk-toggleable__label .caption {\n",
              "  font-size: 0.6rem;\n",
              "  font-weight: lighter;\n",
              "  color: var(--sklearn-color-text-muted);\n",
              "}\n",
              "\n",
              "#sk-container-id-1 label.sk-toggleable__label-arrow:before {\n",
              "  /* Arrow on the left of the label */\n",
              "  content: \"▸\";\n",
              "  float: left;\n",
              "  margin-right: 0.25em;\n",
              "  color: var(--sklearn-color-icon);\n",
              "}\n",
              "\n",
              "#sk-container-id-1 label.sk-toggleable__label-arrow:hover:before {\n",
              "  color: var(--sklearn-color-text);\n",
              "}\n",
              "\n",
              "/* Toggleable content - dropdown */\n",
              "\n",
              "#sk-container-id-1 div.sk-toggleable__content {\n",
              "  max-height: 0;\n",
              "  max-width: 0;\n",
              "  overflow: hidden;\n",
              "  text-align: left;\n",
              "  /* unfitted */\n",
              "  background-color: var(--sklearn-color-unfitted-level-0);\n",
              "}\n",
              "\n",
              "#sk-container-id-1 div.sk-toggleable__content.fitted {\n",
              "  /* fitted */\n",
              "  background-color: var(--sklearn-color-fitted-level-0);\n",
              "}\n",
              "\n",
              "#sk-container-id-1 div.sk-toggleable__content pre {\n",
              "  margin: 0.2em;\n",
              "  border-radius: 0.25em;\n",
              "  color: var(--sklearn-color-text);\n",
              "  /* unfitted */\n",
              "  background-color: var(--sklearn-color-unfitted-level-0);\n",
              "}\n",
              "\n",
              "#sk-container-id-1 div.sk-toggleable__content.fitted pre {\n",
              "  /* unfitted */\n",
              "  background-color: var(--sklearn-color-fitted-level-0);\n",
              "}\n",
              "\n",
              "#sk-container-id-1 input.sk-toggleable__control:checked~div.sk-toggleable__content {\n",
              "  /* Expand drop-down */\n",
              "  max-height: 200px;\n",
              "  max-width: 100%;\n",
              "  overflow: auto;\n",
              "}\n",
              "\n",
              "#sk-container-id-1 input.sk-toggleable__control:checked~label.sk-toggleable__label-arrow:before {\n",
              "  content: \"▾\";\n",
              "}\n",
              "\n",
              "/* Pipeline/ColumnTransformer-specific style */\n",
              "\n",
              "#sk-container-id-1 div.sk-label input.sk-toggleable__control:checked~label.sk-toggleable__label {\n",
              "  color: var(--sklearn-color-text);\n",
              "  background-color: var(--sklearn-color-unfitted-level-2);\n",
              "}\n",
              "\n",
              "#sk-container-id-1 div.sk-label.fitted input.sk-toggleable__control:checked~label.sk-toggleable__label {\n",
              "  background-color: var(--sklearn-color-fitted-level-2);\n",
              "}\n",
              "\n",
              "/* Estimator-specific style */\n",
              "\n",
              "/* Colorize estimator box */\n",
              "#sk-container-id-1 div.sk-estimator input.sk-toggleable__control:checked~label.sk-toggleable__label {\n",
              "  /* unfitted */\n",
              "  background-color: var(--sklearn-color-unfitted-level-2);\n",
              "}\n",
              "\n",
              "#sk-container-id-1 div.sk-estimator.fitted input.sk-toggleable__control:checked~label.sk-toggleable__label {\n",
              "  /* fitted */\n",
              "  background-color: var(--sklearn-color-fitted-level-2);\n",
              "}\n",
              "\n",
              "#sk-container-id-1 div.sk-label label.sk-toggleable__label,\n",
              "#sk-container-id-1 div.sk-label label {\n",
              "  /* The background is the default theme color */\n",
              "  color: var(--sklearn-color-text-on-default-background);\n",
              "}\n",
              "\n",
              "/* On hover, darken the color of the background */\n",
              "#sk-container-id-1 div.sk-label:hover label.sk-toggleable__label {\n",
              "  color: var(--sklearn-color-text);\n",
              "  background-color: var(--sklearn-color-unfitted-level-2);\n",
              "}\n",
              "\n",
              "/* Label box, darken color on hover, fitted */\n",
              "#sk-container-id-1 div.sk-label.fitted:hover label.sk-toggleable__label.fitted {\n",
              "  color: var(--sklearn-color-text);\n",
              "  background-color: var(--sklearn-color-fitted-level-2);\n",
              "}\n",
              "\n",
              "/* Estimator label */\n",
              "\n",
              "#sk-container-id-1 div.sk-label label {\n",
              "  font-family: monospace;\n",
              "  font-weight: bold;\n",
              "  display: inline-block;\n",
              "  line-height: 1.2em;\n",
              "}\n",
              "\n",
              "#sk-container-id-1 div.sk-label-container {\n",
              "  text-align: center;\n",
              "}\n",
              "\n",
              "/* Estimator-specific */\n",
              "#sk-container-id-1 div.sk-estimator {\n",
              "  font-family: monospace;\n",
              "  border: 1px dotted var(--sklearn-color-border-box);\n",
              "  border-radius: 0.25em;\n",
              "  box-sizing: border-box;\n",
              "  margin-bottom: 0.5em;\n",
              "  /* unfitted */\n",
              "  background-color: var(--sklearn-color-unfitted-level-0);\n",
              "}\n",
              "\n",
              "#sk-container-id-1 div.sk-estimator.fitted {\n",
              "  /* fitted */\n",
              "  background-color: var(--sklearn-color-fitted-level-0);\n",
              "}\n",
              "\n",
              "/* on hover */\n",
              "#sk-container-id-1 div.sk-estimator:hover {\n",
              "  /* unfitted */\n",
              "  background-color: var(--sklearn-color-unfitted-level-2);\n",
              "}\n",
              "\n",
              "#sk-container-id-1 div.sk-estimator.fitted:hover {\n",
              "  /* fitted */\n",
              "  background-color: var(--sklearn-color-fitted-level-2);\n",
              "}\n",
              "\n",
              "/* Specification for estimator info (e.g. \"i\" and \"?\") */\n",
              "\n",
              "/* Common style for \"i\" and \"?\" */\n",
              "\n",
              ".sk-estimator-doc-link,\n",
              "a:link.sk-estimator-doc-link,\n",
              "a:visited.sk-estimator-doc-link {\n",
              "  float: right;\n",
              "  font-size: smaller;\n",
              "  line-height: 1em;\n",
              "  font-family: monospace;\n",
              "  background-color: var(--sklearn-color-background);\n",
              "  border-radius: 1em;\n",
              "  height: 1em;\n",
              "  width: 1em;\n",
              "  text-decoration: none !important;\n",
              "  margin-left: 0.5em;\n",
              "  text-align: center;\n",
              "  /* unfitted */\n",
              "  border: var(--sklearn-color-unfitted-level-1) 1pt solid;\n",
              "  color: var(--sklearn-color-unfitted-level-1);\n",
              "}\n",
              "\n",
              ".sk-estimator-doc-link.fitted,\n",
              "a:link.sk-estimator-doc-link.fitted,\n",
              "a:visited.sk-estimator-doc-link.fitted {\n",
              "  /* fitted */\n",
              "  border: var(--sklearn-color-fitted-level-1) 1pt solid;\n",
              "  color: var(--sklearn-color-fitted-level-1);\n",
              "}\n",
              "\n",
              "/* On hover */\n",
              "div.sk-estimator:hover .sk-estimator-doc-link:hover,\n",
              ".sk-estimator-doc-link:hover,\n",
              "div.sk-label-container:hover .sk-estimator-doc-link:hover,\n",
              ".sk-estimator-doc-link:hover {\n",
              "  /* unfitted */\n",
              "  background-color: var(--sklearn-color-unfitted-level-3);\n",
              "  color: var(--sklearn-color-background);\n",
              "  text-decoration: none;\n",
              "}\n",
              "\n",
              "div.sk-estimator.fitted:hover .sk-estimator-doc-link.fitted:hover,\n",
              ".sk-estimator-doc-link.fitted:hover,\n",
              "div.sk-label-container:hover .sk-estimator-doc-link.fitted:hover,\n",
              ".sk-estimator-doc-link.fitted:hover {\n",
              "  /* fitted */\n",
              "  background-color: var(--sklearn-color-fitted-level-3);\n",
              "  color: var(--sklearn-color-background);\n",
              "  text-decoration: none;\n",
              "}\n",
              "\n",
              "/* Span, style for the box shown on hovering the info icon */\n",
              ".sk-estimator-doc-link span {\n",
              "  display: none;\n",
              "  z-index: 9999;\n",
              "  position: relative;\n",
              "  font-weight: normal;\n",
              "  right: .2ex;\n",
              "  padding: .5ex;\n",
              "  margin: .5ex;\n",
              "  width: min-content;\n",
              "  min-width: 20ex;\n",
              "  max-width: 50ex;\n",
              "  color: var(--sklearn-color-text);\n",
              "  box-shadow: 2pt 2pt 4pt #999;\n",
              "  /* unfitted */\n",
              "  background: var(--sklearn-color-unfitted-level-0);\n",
              "  border: .5pt solid var(--sklearn-color-unfitted-level-3);\n",
              "}\n",
              "\n",
              ".sk-estimator-doc-link.fitted span {\n",
              "  /* fitted */\n",
              "  background: var(--sklearn-color-fitted-level-0);\n",
              "  border: var(--sklearn-color-fitted-level-3);\n",
              "}\n",
              "\n",
              ".sk-estimator-doc-link:hover span {\n",
              "  display: block;\n",
              "}\n",
              "\n",
              "/* \"?\"-specific style due to the `<a>` HTML tag */\n",
              "\n",
              "#sk-container-id-1 a.estimator_doc_link {\n",
              "  float: right;\n",
              "  font-size: 1rem;\n",
              "  line-height: 1em;\n",
              "  font-family: monospace;\n",
              "  background-color: var(--sklearn-color-background);\n",
              "  border-radius: 1rem;\n",
              "  height: 1rem;\n",
              "  width: 1rem;\n",
              "  text-decoration: none;\n",
              "  /* unfitted */\n",
              "  color: var(--sklearn-color-unfitted-level-1);\n",
              "  border: var(--sklearn-color-unfitted-level-1) 1pt solid;\n",
              "}\n",
              "\n",
              "#sk-container-id-1 a.estimator_doc_link.fitted {\n",
              "  /* fitted */\n",
              "  border: var(--sklearn-color-fitted-level-1) 1pt solid;\n",
              "  color: var(--sklearn-color-fitted-level-1);\n",
              "}\n",
              "\n",
              "/* On hover */\n",
              "#sk-container-id-1 a.estimator_doc_link:hover {\n",
              "  /* unfitted */\n",
              "  background-color: var(--sklearn-color-unfitted-level-3);\n",
              "  color: var(--sklearn-color-background);\n",
              "  text-decoration: none;\n",
              "}\n",
              "\n",
              "#sk-container-id-1 a.estimator_doc_link.fitted:hover {\n",
              "  /* fitted */\n",
              "  background-color: var(--sklearn-color-fitted-level-3);\n",
              "}\n",
              "</style><div id=\"sk-container-id-1\" class=\"sk-top-container\"><div class=\"sk-text-repr-fallback\"><pre>KNeighborsRegressor()</pre><b>In a Jupyter environment, please rerun this cell to show the HTML representation or trust the notebook. <br />On GitHub, the HTML representation is unable to render, please try loading this page with nbviewer.org.</b></div><div class=\"sk-container\" hidden><div class=\"sk-item\"><div class=\"sk-estimator fitted sk-toggleable\"><input class=\"sk-toggleable__control sk-hidden--visually\" id=\"sk-estimator-id-1\" type=\"checkbox\" checked><label for=\"sk-estimator-id-1\" class=\"sk-toggleable__label fitted sk-toggleable__label-arrow\"><div><div>KNeighborsRegressor</div></div><div><a class=\"sk-estimator-doc-link fitted\" rel=\"noreferrer\" target=\"_blank\" href=\"https://scikit-learn.org/1.6/modules/generated/sklearn.neighbors.KNeighborsRegressor.html\">?<span>Documentation for KNeighborsRegressor</span></a><span class=\"sk-estimator-doc-link fitted\">i<span>Fitted</span></span></div></label><div class=\"sk-toggleable__content fitted\"><pre>KNeighborsRegressor()</pre></div> </div></div></div></div>"
            ]
          },
          "metadata": {},
          "execution_count": 9
        }
      ],
      "source": [
        "model = KNeighborsRegressor(n_neighbors=5)\n",
        "model.fit(X_train_scaled, y_train)"
      ]
    },
    {
      "cell_type": "markdown",
      "id": "006132e0",
      "metadata": {
        "id": "006132e0"
      },
      "source": [
        "**Perguntas:**\n",
        "- O que significa o parâmetro `n_neighbors`?\n",
        "- O que faz o método `.fit()`?"
      ]
    },
    {
      "cell_type": "markdown",
      "source": [
        "1) '**n_neighbors**' é o parâmetro do KNN que define a quantidade de vizinhos a serem analisados para identificar o padrão.\n",
        "\n",
        "2) O '**.fit()**' é responsável por treinar o modelo com os dados fornecidos. Ele armazena os dados de treino e os utiliza como base para prever as futuras situações."
      ],
      "metadata": {
        "id": "fOctvkyxfp8I"
      },
      "id": "fOctvkyxfp8I"
    },
    {
      "cell_type": "markdown",
      "id": "b044b551",
      "metadata": {
        "id": "b044b551"
      },
      "source": [
        "## 8. Avaliação do Modelo"
      ]
    },
    {
      "cell_type": "code",
      "execution_count": null,
      "id": "a9028d95",
      "metadata": {
        "id": "a9028d95",
        "colab": {
          "base_uri": "https://localhost:8080/"
        },
        "outputId": "f972af30-afda-40d5-e93c-b1b632ebf1cf"
      },
      "outputs": [
        {
          "output_type": "stream",
          "name": "stdout",
          "text": [
            "Erro Quadrático Médio (MSE): 0.4324216146043236\n"
          ]
        }
      ],
      "source": [
        "y_pred = model.predict(X_test_scaled)\n",
        "mse = mean_squared_error(y_test, y_pred)\n",
        "print(\"Erro Quadrático Médio (MSE):\", mse)"
      ]
    },
    {
      "cell_type": "markdown",
      "id": "5802f1a7",
      "metadata": {
        "id": "5802f1a7"
      },
      "source": [
        "**Perguntas:**\n",
        "- O que significa o valor de MSE?\n",
        "- Quanto menor o MSE, melhor ou pior o modelo?"
      ]
    },
    {
      "cell_type": "markdown",
      "source": [
        "1) O valor do MSE representa quão errado estão as previsões do modelo em relação aos valores reais.\n",
        "\n",
        "2) Melhor, porque quando se tem um MSE baixo, isto quer dizer que o modelo apresenta um bom desempenho e previsões mais proximas das reais."
      ],
      "metadata": {
        "id": "dcugCU9-h0sc"
      },
      "id": "dcugCU9-h0sc"
    },
    {
      "cell_type": "markdown",
      "id": "f2607637",
      "metadata": {
        "id": "f2607637"
      },
      "source": [
        "## 9. Conclusão"
      ]
    },
    {
      "cell_type": "markdown",
      "id": "16d156a1",
      "metadata": {
        "id": "16d156a1"
      },
      "source": [
        "Acho que o modelo ficou funcional e otimizado, eu sinceramente não consigo pensar no que poderia ser mudado. Contudo, sinto que valeria a pena realizar uma pequnena limpeza de dados, retirando a variável \"População da região\"; pois não vejo esta como relevante para a previsão do modelo, e acho que sua retirada pode gerar um maior refinamento da acurácia do modelo."
      ]
    }
  ],
  "metadata": {
    "colab": {
      "provenance": [],
      "collapsed_sections": [
        "22fbc93e",
        "6aa15ebe",
        "937aab18",
        "d41b8159",
        "3973aabc",
        "f793bf54",
        "55cf902a",
        "b044b551",
        "6b5cd4a0"
      ],
      "include_colab_link": true
    },
    "language_info": {
      "name": "python"
    },
    "kernelspec": {
      "name": "python3",
      "display_name": "Python 3"
    }
  },
  "nbformat": 4,
  "nbformat_minor": 5
}